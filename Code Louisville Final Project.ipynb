{
 "cells": [
  {
   "cell_type": "code",
   "execution_count": 2,
   "id": "b391e505",
   "metadata": {
    "id": "b391e505"
   },
   "outputs": [],
   "source": [
    "#Importing libraries\n",
    "import pandas as pd"
   ]
  },
  {
   "cell_type": "code",
   "execution_count": 3,
   "id": "apONvzUOmiZk",
   "metadata": {
    "id": "apONvzUOmiZk"
   },
   "outputs": [],
   "source": [
    "#Importing Matplotlib\n",
    "import matplotlib.pyplot as plt"
   ]
  },
  {
   "cell_type": "code",
   "execution_count": 8,
   "id": "37c5a16b",
   "metadata": {
    "id": "37c5a16b"
   },
   "outputs": [],
   "source": [
    "#Loading dataset\n",
    "df=pd.read_csv(\"bestsellers_with_categories.csv\")"
   ]
  },
  {
   "cell_type": "code",
   "execution_count": 6,
   "id": "B7-bHm83jQ5d",
   "metadata": {
    "colab": {
     "base_uri": "https://localhost:8080/",
     "height": 655
    },
    "id": "B7-bHm83jQ5d",
    "outputId": "4d9f232b-d5c7-41e6-b0df-3f63cd4cb280"
   },
   "outputs": [
    {
     "data": {
      "text/html": [
       "<div>\n",
       "<style scoped>\n",
       "    .dataframe tbody tr th:only-of-type {\n",
       "        vertical-align: middle;\n",
       "    }\n",
       "\n",
       "    .dataframe tbody tr th {\n",
       "        vertical-align: top;\n",
       "    }\n",
       "\n",
       "    .dataframe thead th {\n",
       "        text-align: right;\n",
       "    }\n",
       "</style>\n",
       "<table border=\"1\" class=\"dataframe\">\n",
       "  <thead>\n",
       "    <tr style=\"text-align: right;\">\n",
       "      <th></th>\n",
       "      <th>Name</th>\n",
       "      <th>Author</th>\n",
       "      <th>User Rating</th>\n",
       "      <th>Reviews</th>\n",
       "      <th>Price</th>\n",
       "      <th>Year</th>\n",
       "      <th>Genre</th>\n",
       "    </tr>\n",
       "  </thead>\n",
       "  <tbody>\n",
       "    <tr>\n",
       "      <th>0</th>\n",
       "      <td>10-Day Green Smoothie Cleanse</td>\n",
       "      <td>JJ Smith</td>\n",
       "      <td>4.7</td>\n",
       "      <td>17350</td>\n",
       "      <td>8</td>\n",
       "      <td>2016</td>\n",
       "      <td>Non Fiction</td>\n",
       "    </tr>\n",
       "    <tr>\n",
       "      <th>1</th>\n",
       "      <td>11/22/63: A Novel</td>\n",
       "      <td>Stephen King</td>\n",
       "      <td>4.6</td>\n",
       "      <td>2052</td>\n",
       "      <td>22</td>\n",
       "      <td>2011</td>\n",
       "      <td>Fiction</td>\n",
       "    </tr>\n",
       "    <tr>\n",
       "      <th>2</th>\n",
       "      <td>12 Rules for Life: An Antidote to Chaos</td>\n",
       "      <td>Jordan B. Peterson</td>\n",
       "      <td>4.7</td>\n",
       "      <td>18979</td>\n",
       "      <td>15</td>\n",
       "      <td>2018</td>\n",
       "      <td>Non Fiction</td>\n",
       "    </tr>\n",
       "    <tr>\n",
       "      <th>3</th>\n",
       "      <td>1984 (Signet Classics)</td>\n",
       "      <td>George Orwell</td>\n",
       "      <td>4.7</td>\n",
       "      <td>21424</td>\n",
       "      <td>6</td>\n",
       "      <td>2017</td>\n",
       "      <td>Fiction</td>\n",
       "    </tr>\n",
       "    <tr>\n",
       "      <th>4</th>\n",
       "      <td>5,000 Awesome Facts (About Everything!) (Natio...</td>\n",
       "      <td>National Geographic Kids</td>\n",
       "      <td>4.8</td>\n",
       "      <td>7665</td>\n",
       "      <td>12</td>\n",
       "      <td>2019</td>\n",
       "      <td>Non Fiction</td>\n",
       "    </tr>\n",
       "    <tr>\n",
       "      <th>...</th>\n",
       "      <td>...</td>\n",
       "      <td>...</td>\n",
       "      <td>...</td>\n",
       "      <td>...</td>\n",
       "      <td>...</td>\n",
       "      <td>...</td>\n",
       "      <td>...</td>\n",
       "    </tr>\n",
       "    <tr>\n",
       "      <th>545</th>\n",
       "      <td>Wrecking Ball (Diary of a Wimpy Kid Book 14)</td>\n",
       "      <td>Jeff Kinney</td>\n",
       "      <td>4.9</td>\n",
       "      <td>9413</td>\n",
       "      <td>8</td>\n",
       "      <td>2019</td>\n",
       "      <td>Fiction</td>\n",
       "    </tr>\n",
       "    <tr>\n",
       "      <th>546</th>\n",
       "      <td>You Are a Badass: How to Stop Doubting Your Gr...</td>\n",
       "      <td>Jen Sincero</td>\n",
       "      <td>4.7</td>\n",
       "      <td>14331</td>\n",
       "      <td>8</td>\n",
       "      <td>2016</td>\n",
       "      <td>Non Fiction</td>\n",
       "    </tr>\n",
       "    <tr>\n",
       "      <th>547</th>\n",
       "      <td>You Are a Badass: How to Stop Doubting Your Gr...</td>\n",
       "      <td>Jen Sincero</td>\n",
       "      <td>4.7</td>\n",
       "      <td>14331</td>\n",
       "      <td>8</td>\n",
       "      <td>2017</td>\n",
       "      <td>Non Fiction</td>\n",
       "    </tr>\n",
       "    <tr>\n",
       "      <th>548</th>\n",
       "      <td>You Are a Badass: How to Stop Doubting Your Gr...</td>\n",
       "      <td>Jen Sincero</td>\n",
       "      <td>4.7</td>\n",
       "      <td>14331</td>\n",
       "      <td>8</td>\n",
       "      <td>2018</td>\n",
       "      <td>Non Fiction</td>\n",
       "    </tr>\n",
       "    <tr>\n",
       "      <th>549</th>\n",
       "      <td>You Are a Badass: How to Stop Doubting Your Gr...</td>\n",
       "      <td>Jen Sincero</td>\n",
       "      <td>4.7</td>\n",
       "      <td>14331</td>\n",
       "      <td>8</td>\n",
       "      <td>2019</td>\n",
       "      <td>Non Fiction</td>\n",
       "    </tr>\n",
       "  </tbody>\n",
       "</table>\n",
       "<p>550 rows × 7 columns</p>\n",
       "</div>"
      ],
      "text/plain": [
       "                                                  Name  \\\n",
       "0                        10-Day Green Smoothie Cleanse   \n",
       "1                                    11/22/63: A Novel   \n",
       "2              12 Rules for Life: An Antidote to Chaos   \n",
       "3                               1984 (Signet Classics)   \n",
       "4    5,000 Awesome Facts (About Everything!) (Natio...   \n",
       "..                                                 ...   \n",
       "545       Wrecking Ball (Diary of a Wimpy Kid Book 14)   \n",
       "546  You Are a Badass: How to Stop Doubting Your Gr...   \n",
       "547  You Are a Badass: How to Stop Doubting Your Gr...   \n",
       "548  You Are a Badass: How to Stop Doubting Your Gr...   \n",
       "549  You Are a Badass: How to Stop Doubting Your Gr...   \n",
       "\n",
       "                       Author  User Rating  Reviews  Price  Year        Genre  \n",
       "0                    JJ Smith          4.7    17350      8  2016  Non Fiction  \n",
       "1                Stephen King          4.6     2052     22  2011      Fiction  \n",
       "2          Jordan B. Peterson          4.7    18979     15  2018  Non Fiction  \n",
       "3               George Orwell          4.7    21424      6  2017      Fiction  \n",
       "4    National Geographic Kids          4.8     7665     12  2019  Non Fiction  \n",
       "..                        ...          ...      ...    ...   ...          ...  \n",
       "545               Jeff Kinney          4.9     9413      8  2019      Fiction  \n",
       "546               Jen Sincero          4.7    14331      8  2016  Non Fiction  \n",
       "547               Jen Sincero          4.7    14331      8  2017  Non Fiction  \n",
       "548               Jen Sincero          4.7    14331      8  2018  Non Fiction  \n",
       "549               Jen Sincero          4.7    14331      8  2019  Non Fiction  \n",
       "\n",
       "[550 rows x 7 columns]"
      ]
     },
     "metadata": {},
     "output_type": "display_data"
    }
   ],
   "source": [
    "display(df)"
   ]
  },
  {
   "cell_type": "code",
   "execution_count": 9,
   "id": "42c1a747",
   "metadata": {
    "colab": {
     "base_uri": "https://localhost:8080/"
    },
    "id": "42c1a747",
    "outputId": "72d2db2e-2be5-45c2-83b3-f0f36e182b12"
   },
   "outputs": [
    {
     "data": {
      "text/plain": [
       "Name           0\n",
       "Author         0\n",
       "User Rating    0\n",
       "Reviews        0\n",
       "Price          0\n",
       "Year           0\n",
       "Genre          0\n",
       "dtype: int64"
      ]
     },
     "execution_count": 9,
     "metadata": {},
     "output_type": "execute_result"
    }
   ],
   "source": [
    "# Checking for missing or null values\n",
    "df.isnull().sum()"
   ]
  },
  {
   "cell_type": "code",
   "execution_count": 9,
   "id": "8b7a13f5",
   "metadata": {
    "colab": {
     "base_uri": "https://localhost:8080/"
    },
    "id": "8b7a13f5",
    "outputId": "146d3f49-3fc2-4f83-aa1c-7dbb29a13bf9"
   },
   "outputs": [
    {
     "data": {
      "text/plain": [
       "0"
      ]
     },
     "execution_count": 9,
     "metadata": {},
     "output_type": "execute_result"
    }
   ],
   "source": [
    "# Checking for duplicates\n",
    "df.duplicated().sum()"
   ]
  },
  {
   "cell_type": "code",
   "execution_count": 10,
   "id": "b7aa1ad4",
   "metadata": {
    "colab": {
     "base_uri": "https://localhost:8080/",
     "height": 296
    },
    "id": "b7aa1ad4",
    "outputId": "f9dee505-1669-4b03-ae32-3830bf004d74"
   },
   "outputs": [
    {
     "data": {
      "text/plain": [
       "<AxesSubplot:xlabel='Price'>"
      ]
     },
     "execution_count": 10,
     "metadata": {},
     "output_type": "execute_result"
    },
    {
     "data": {
      "image/png": "[encoded data removed]",
      "text/plain": [
       "<Figure size 640x480 with 1 Axes>"
      ]
     },
     "metadata": {},
     "output_type": "display_data"
    }
   ],
   "source": [
    "# Checking for outliers using boxplot\n",
    "import seaborn as sns\n",
    "sns.boxplot(x=df['Price'])"
   ]
  },
  {
   "cell_type": "code",
   "execution_count": null,
   "id": "0349259c",
   "metadata": {
    "id": "0349259c",
    "outputId": "509e1287-96a9-413e-f515-dc97c5910de3"
   },
   "outputs": [
    {
     "data": {
      "text/plain": [
       "<AxesSubplot:xlabel='Reviews'>"
      ]
     },
     "execution_count": 15,
     "metadata": {},
     "output_type": "execute_result"
    },
    {
     "data": {
      "image/png": "[encoded data removed]",
      "text/plain": [
       "<Figure size 640x480 with 1 Axes>"
      ]
     },
     "metadata": {},
     "output_type": "display_data"
    }
   ],
   "source": [
    "# Checking for outliers using boxplot\n",
    "import seaborn as sns\n",
    "sns.boxplot(x=df['Reviews'])"
   ]
  },
  {
   "cell_type": "code",
   "execution_count": null,
   "id": "8404fff8",
   "metadata": {
    "id": "8404fff8",
    "outputId": "c650e5db-961a-4f29-8d66-59244428271a"
   },
   "outputs": [
    {
     "data": {
      "text/html": [
       "<div>\n",
       "<style scoped>\n",
       "    .dataframe tbody tr th:only-of-type {\n",
       "        vertical-align: middle;\n",
       "    }\n",
       "\n",
       "    .dataframe tbody tr th {\n",
       "        vertical-align: top;\n",
       "    }\n",
       "\n",
       "    .dataframe thead th {\n",
       "        text-align: right;\n",
       "    }\n",
       "</style>\n",
       "<table border=\"1\" class=\"dataframe\">\n",
       "  <thead>\n",
       "    <tr style=\"text-align: right;\">\n",
       "      <th></th>\n",
       "      <th>Name</th>\n",
       "      <th>Author</th>\n",
       "      <th>User Rating</th>\n",
       "      <th>Reviews</th>\n",
       "      <th>Price</th>\n",
       "      <th>Year</th>\n",
       "      <th>Genre</th>\n",
       "    </tr>\n",
       "  </thead>\n",
       "  <tbody>\n",
       "    <tr>\n",
       "      <th>545</th>\n",
       "      <td>Wrecking Ball (Diary of a Wimpy Kid Book 14)</td>\n",
       "      <td>Jeff Kinney</td>\n",
       "      <td>4.9</td>\n",
       "      <td>9413</td>\n",
       "      <td>8</td>\n",
       "      <td>2019</td>\n",
       "      <td>Fiction</td>\n",
       "    </tr>\n",
       "    <tr>\n",
       "      <th>546</th>\n",
       "      <td>You Are a Badass: How to Stop Doubting Your Gr...</td>\n",
       "      <td>Jen Sincero</td>\n",
       "      <td>4.7</td>\n",
       "      <td>14331</td>\n",
       "      <td>8</td>\n",
       "      <td>2016</td>\n",
       "      <td>Non Fiction</td>\n",
       "    </tr>\n",
       "    <tr>\n",
       "      <th>547</th>\n",
       "      <td>You Are a Badass: How to Stop Doubting Your Gr...</td>\n",
       "      <td>Jen Sincero</td>\n",
       "      <td>4.7</td>\n",
       "      <td>14331</td>\n",
       "      <td>8</td>\n",
       "      <td>2017</td>\n",
       "      <td>Non Fiction</td>\n",
       "    </tr>\n",
       "    <tr>\n",
       "      <th>548</th>\n",
       "      <td>You Are a Badass: How to Stop Doubting Your Gr...</td>\n",
       "      <td>Jen Sincero</td>\n",
       "      <td>4.7</td>\n",
       "      <td>14331</td>\n",
       "      <td>8</td>\n",
       "      <td>2018</td>\n",
       "      <td>Non Fiction</td>\n",
       "    </tr>\n",
       "    <tr>\n",
       "      <th>549</th>\n",
       "      <td>You Are a Badass: How to Stop Doubting Your Gr...</td>\n",
       "      <td>Jen Sincero</td>\n",
       "      <td>4.7</td>\n",
       "      <td>14331</td>\n",
       "      <td>8</td>\n",
       "      <td>2019</td>\n",
       "      <td>Non Fiction</td>\n",
       "    </tr>\n",
       "  </tbody>\n",
       "</table>\n",
       "</div>"
      ],
      "text/plain": [
       "                                                  Name       Author  \\\n",
       "545       Wrecking Ball (Diary of a Wimpy Kid Book 14)  Jeff Kinney   \n",
       "546  You Are a Badass: How to Stop Doubting Your Gr...  Jen Sincero   \n",
       "547  You Are a Badass: How to Stop Doubting Your Gr...  Jen Sincero   \n",
       "548  You Are a Badass: How to Stop Doubting Your Gr...  Jen Sincero   \n",
       "549  You Are a Badass: How to Stop Doubting Your Gr...  Jen Sincero   \n",
       "\n",
       "     User Rating  Reviews  Price  Year        Genre  \n",
       "545          4.9     9413      8  2019      Fiction  \n",
       "546          4.7    14331      8  2016  Non Fiction  \n",
       "547          4.7    14331      8  2017  Non Fiction  \n",
       "548          4.7    14331      8  2018  Non Fiction  \n",
       "549          4.7    14331      8  2019  Non Fiction  "
      ]
     },
     "execution_count": 21,
     "metadata": {},
     "output_type": "execute_result"
    }
   ],
   "source": [
    "df.tail()"
   ]
  },
  {
   "cell_type": "code",
   "execution_count": null,
   "id": "7212fd76",
   "metadata": {
    "id": "7212fd76",
    "outputId": "79cc8e90-ac31-492b-c056-8d23f4ef9c47"
   },
   "outputs": [
    {
     "data": {
      "text/html": [
       "<div>\n",
       "<style scoped>\n",
       "    .dataframe tbody tr th:only-of-type {\n",
       "        vertical-align: middle;\n",
       "    }\n",
       "\n",
       "    .dataframe tbody tr th {\n",
       "        vertical-align: top;\n",
       "    }\n",
       "\n",
       "    .dataframe thead th {\n",
       "        text-align: right;\n",
       "    }\n",
       "</style>\n",
       "<table border=\"1\" class=\"dataframe\">\n",
       "  <thead>\n",
       "    <tr style=\"text-align: right;\">\n",
       "      <th></th>\n",
       "      <th>User Rating</th>\n",
       "      <th>Reviews</th>\n",
       "      <th>Price</th>\n",
       "      <th>Year</th>\n",
       "    </tr>\n",
       "  </thead>\n",
       "  <tbody>\n",
       "    <tr>\n",
       "      <th>count</th>\n",
       "      <td>550.000000</td>\n",
       "      <td>550.000000</td>\n",
       "      <td>550.000000</td>\n",
       "      <td>550.000000</td>\n",
       "    </tr>\n",
       "    <tr>\n",
       "      <th>mean</th>\n",
       "      <td>4.618364</td>\n",
       "      <td>11953.281818</td>\n",
       "      <td>13.100000</td>\n",
       "      <td>2014.000000</td>\n",
       "    </tr>\n",
       "    <tr>\n",
       "      <th>std</th>\n",
       "      <td>0.226980</td>\n",
       "      <td>11731.132017</td>\n",
       "      <td>10.842262</td>\n",
       "      <td>3.165156</td>\n",
       "    </tr>\n",
       "    <tr>\n",
       "      <th>min</th>\n",
       "      <td>3.300000</td>\n",
       "      <td>37.000000</td>\n",
       "      <td>0.000000</td>\n",
       "      <td>2009.000000</td>\n",
       "    </tr>\n",
       "    <tr>\n",
       "      <th>25%</th>\n",
       "      <td>4.500000</td>\n",
       "      <td>4058.000000</td>\n",
       "      <td>7.000000</td>\n",
       "      <td>2011.000000</td>\n",
       "    </tr>\n",
       "    <tr>\n",
       "      <th>50%</th>\n",
       "      <td>4.700000</td>\n",
       "      <td>8580.000000</td>\n",
       "      <td>11.000000</td>\n",
       "      <td>2014.000000</td>\n",
       "    </tr>\n",
       "    <tr>\n",
       "      <th>75%</th>\n",
       "      <td>4.800000</td>\n",
       "      <td>17253.250000</td>\n",
       "      <td>16.000000</td>\n",
       "      <td>2017.000000</td>\n",
       "    </tr>\n",
       "    <tr>\n",
       "      <th>max</th>\n",
       "      <td>4.900000</td>\n",
       "      <td>87841.000000</td>\n",
       "      <td>105.000000</td>\n",
       "      <td>2019.000000</td>\n",
       "    </tr>\n",
       "  </tbody>\n",
       "</table>\n",
       "</div>"
      ],
      "text/plain": [
       "       User Rating       Reviews       Price         Year\n",
       "count   550.000000    550.000000  550.000000   550.000000\n",
       "mean      4.618364  11953.281818   13.100000  2014.000000\n",
       "std       0.226980  11731.132017   10.842262     3.165156\n",
       "min       3.300000     37.000000    0.000000  2009.000000\n",
       "25%       4.500000   4058.000000    7.000000  2011.000000\n",
       "50%       4.700000   8580.000000   11.000000  2014.000000\n",
       "75%       4.800000  17253.250000   16.000000  2017.000000\n",
       "max       4.900000  87841.000000  105.000000  2019.000000"
      ]
     },
     "execution_count": 19,
     "metadata": {},
     "output_type": "execute_result"
    }
   ],
   "source": [
    "df.describe()"
   ]
  },
  {
   "cell_type": "code",
   "execution_count": null,
   "id": "6f78660e",
   "metadata": {
    "id": "6f78660e",
    "outputId": "848657e9-6c0c-496e-d2df-a9bc675a6140"
   },
   "outputs": [
    {
     "data": {
      "text/plain": [
       "(550, 7)"
      ]
     },
     "execution_count": 20,
     "metadata": {},
     "output_type": "execute_result"
    }
   ],
   "source": [
    "df.shape"
   ]
  },
  {
   "cell_type": "code",
   "execution_count": null,
   "id": "326ac1ee",
   "metadata": {
    "id": "326ac1ee",
    "outputId": "0ecb19d8-bf15-4afc-efd4-78610804173f"
   },
   "outputs": [
    {
     "name": "stdout",
     "output_type": "stream",
     "text": [
      "<class 'pandas.core.frame.DataFrame'>\n",
      "RangeIndex: 550 entries, 0 to 549\n",
      "Data columns (total 7 columns):\n",
      " #   Column       Non-Null Count  Dtype  \n",
      "---  ------       --------------  -----  \n",
      " 0   Name         550 non-null    object \n",
      " 1   Author       550 non-null    object \n",
      " 2   User Rating  550 non-null    float64\n",
      " 3   Reviews      550 non-null    int64  \n",
      " 4   Price        550 non-null    int64  \n",
      " 5   Year         550 non-null    int64  \n",
      " 6   Genre        550 non-null    object \n",
      "dtypes: float64(1), int64(3), object(3)\n",
      "memory usage: 30.2+ KB\n"
     ]
    }
   ],
   "source": [
    "df.info()"
   ]
  },
  {
   "cell_type": "code",
   "execution_count": 13,
   "id": "739edc97",
   "metadata": {
    "colab": {
     "base_uri": "https://localhost:8080/"
    },
    "id": "739edc97",
    "outputId": "b4b0c045-6069-40c6-dbad-b2222652441a"
   },
   "outputs": [
    {
     "data": {
      "text/plain": [
       "0                      JJ Smith\n",
       "1                  Stephen King\n",
       "2            Jordan B. Peterson\n",
       "3                 George Orwell\n",
       "4      National Geographic Kids\n",
       "                 ...           \n",
       "545                 Jeff Kinney\n",
       "546                 Jen Sincero\n",
       "547                 Jen Sincero\n",
       "548                 Jen Sincero\n",
       "549                 Jen Sincero\n",
       "Name: Author, Length: 550, dtype: object"
      ]
     },
     "execution_count": 13,
     "metadata": {},
     "output_type": "execute_result"
    }
   ],
   "source": [
    "df.Author"
   ]
  },
  {
   "cell_type": "code",
   "execution_count": 11,
   "id": "4XD1Cht60Miz",
   "metadata": {
    "id": "4XD1Cht60Miz"
   },
   "outputs": [],
   "source": [
    "data = pd.read_csv(\"bestsellers_with_categories.csv\")"
   ]
  },
  {
   "cell_type": "code",
   "execution_count": 12,
   "id": "dtVuqUdJ0rR9",
   "metadata": {
    "colab": {
     "base_uri": "https://localhost:8080/",
     "height": 424
    },
    "id": "dtVuqUdJ0rR9",
    "outputId": "e4997cf9-ca39-4681-9760-40b29cc888bf"
   },
   "outputs": [
    {
     "data": {
      "text/html": [
       "<div>\n",
       "<style scoped>\n",
       "    .dataframe tbody tr th:only-of-type {\n",
       "        vertical-align: middle;\n",
       "    }\n",
       "\n",
       "    .dataframe tbody tr th {\n",
       "        vertical-align: top;\n",
       "    }\n",
       "\n",
       "    .dataframe thead th {\n",
       "        text-align: right;\n",
       "    }\n",
       "</style>\n",
       "<table border=\"1\" class=\"dataframe\">\n",
       "  <thead>\n",
       "    <tr style=\"text-align: right;\">\n",
       "      <th></th>\n",
       "      <th>Name</th>\n",
       "      <th>Author</th>\n",
       "      <th>User Rating</th>\n",
       "      <th>Reviews</th>\n",
       "      <th>Price</th>\n",
       "      <th>Year</th>\n",
       "      <th>Genre</th>\n",
       "    </tr>\n",
       "  </thead>\n",
       "  <tbody>\n",
       "    <tr>\n",
       "      <th>0</th>\n",
       "      <td>10-Day Green Smoothie Cleanse</td>\n",
       "      <td>JJ Smith</td>\n",
       "      <td>4.7</td>\n",
       "      <td>17350</td>\n",
       "      <td>8</td>\n",
       "      <td>2016</td>\n",
       "      <td>Non Fiction</td>\n",
       "    </tr>\n",
       "    <tr>\n",
       "      <th>1</th>\n",
       "      <td>11/22/63: A Novel</td>\n",
       "      <td>Stephen King</td>\n",
       "      <td>4.6</td>\n",
       "      <td>2052</td>\n",
       "      <td>22</td>\n",
       "      <td>2011</td>\n",
       "      <td>Fiction</td>\n",
       "    </tr>\n",
       "    <tr>\n",
       "      <th>2</th>\n",
       "      <td>12 Rules for Life: An Antidote to Chaos</td>\n",
       "      <td>Jordan B. Peterson</td>\n",
       "      <td>4.7</td>\n",
       "      <td>18979</td>\n",
       "      <td>15</td>\n",
       "      <td>2018</td>\n",
       "      <td>Non Fiction</td>\n",
       "    </tr>\n",
       "    <tr>\n",
       "      <th>3</th>\n",
       "      <td>1984 (Signet Classics)</td>\n",
       "      <td>George Orwell</td>\n",
       "      <td>4.7</td>\n",
       "      <td>21424</td>\n",
       "      <td>6</td>\n",
       "      <td>2017</td>\n",
       "      <td>Fiction</td>\n",
       "    </tr>\n",
       "    <tr>\n",
       "      <th>4</th>\n",
       "      <td>5,000 Awesome Facts (About Everything!) (Natio...</td>\n",
       "      <td>National Geographic Kids</td>\n",
       "      <td>4.8</td>\n",
       "      <td>7665</td>\n",
       "      <td>12</td>\n",
       "      <td>2019</td>\n",
       "      <td>Non Fiction</td>\n",
       "    </tr>\n",
       "    <tr>\n",
       "      <th>...</th>\n",
       "      <td>...</td>\n",
       "      <td>...</td>\n",
       "      <td>...</td>\n",
       "      <td>...</td>\n",
       "      <td>...</td>\n",
       "      <td>...</td>\n",
       "      <td>...</td>\n",
       "    </tr>\n",
       "    <tr>\n",
       "      <th>545</th>\n",
       "      <td>Wrecking Ball (Diary of a Wimpy Kid Book 14)</td>\n",
       "      <td>Jeff Kinney</td>\n",
       "      <td>4.9</td>\n",
       "      <td>9413</td>\n",
       "      <td>8</td>\n",
       "      <td>2019</td>\n",
       "      <td>Fiction</td>\n",
       "    </tr>\n",
       "    <tr>\n",
       "      <th>546</th>\n",
       "      <td>You Are a Badass: How to Stop Doubting Your Gr...</td>\n",
       "      <td>Jen Sincero</td>\n",
       "      <td>4.7</td>\n",
       "      <td>14331</td>\n",
       "      <td>8</td>\n",
       "      <td>2016</td>\n",
       "      <td>Non Fiction</td>\n",
       "    </tr>\n",
       "    <tr>\n",
       "      <th>547</th>\n",
       "      <td>You Are a Badass: How to Stop Doubting Your Gr...</td>\n",
       "      <td>Jen Sincero</td>\n",
       "      <td>4.7</td>\n",
       "      <td>14331</td>\n",
       "      <td>8</td>\n",
       "      <td>2017</td>\n",
       "      <td>Non Fiction</td>\n",
       "    </tr>\n",
       "    <tr>\n",
       "      <th>548</th>\n",
       "      <td>You Are a Badass: How to Stop Doubting Your Gr...</td>\n",
       "      <td>Jen Sincero</td>\n",
       "      <td>4.7</td>\n",
       "      <td>14331</td>\n",
       "      <td>8</td>\n",
       "      <td>2018</td>\n",
       "      <td>Non Fiction</td>\n",
       "    </tr>\n",
       "    <tr>\n",
       "      <th>549</th>\n",
       "      <td>You Are a Badass: How to Stop Doubting Your Gr...</td>\n",
       "      <td>Jen Sincero</td>\n",
       "      <td>4.7</td>\n",
       "      <td>14331</td>\n",
       "      <td>8</td>\n",
       "      <td>2019</td>\n",
       "      <td>Non Fiction</td>\n",
       "    </tr>\n",
       "  </tbody>\n",
       "</table>\n",
       "<p>550 rows × 7 columns</p>\n",
       "</div>"
      ],
      "text/plain": [
       "                                                  Name  \\\n",
       "0                        10-Day Green Smoothie Cleanse   \n",
       "1                                    11/22/63: A Novel   \n",
       "2              12 Rules for Life: An Antidote to Chaos   \n",
       "3                               1984 (Signet Classics)   \n",
       "4    5,000 Awesome Facts (About Everything!) (Natio...   \n",
       "..                                                 ...   \n",
       "545       Wrecking Ball (Diary of a Wimpy Kid Book 14)   \n",
       "546  You Are a Badass: How to Stop Doubting Your Gr...   \n",
       "547  You Are a Badass: How to Stop Doubting Your Gr...   \n",
       "548  You Are a Badass: How to Stop Doubting Your Gr...   \n",
       "549  You Are a Badass: How to Stop Doubting Your Gr...   \n",
       "\n",
       "                       Author  User Rating  Reviews  Price  Year        Genre  \n",
       "0                    JJ Smith          4.7    17350      8  2016  Non Fiction  \n",
       "1                Stephen King          4.6     2052     22  2011      Fiction  \n",
       "2          Jordan B. Peterson          4.7    18979     15  2018  Non Fiction  \n",
       "3               George Orwell          4.7    21424      6  2017      Fiction  \n",
       "4    National Geographic Kids          4.8     7665     12  2019  Non Fiction  \n",
       "..                        ...          ...      ...    ...   ...          ...  \n",
       "545               Jeff Kinney          4.9     9413      8  2019      Fiction  \n",
       "546               Jen Sincero          4.7    14331      8  2016  Non Fiction  \n",
       "547               Jen Sincero          4.7    14331      8  2017  Non Fiction  \n",
       "548               Jen Sincero          4.7    14331      8  2018  Non Fiction  \n",
       "549               Jen Sincero          4.7    14331      8  2019  Non Fiction  \n",
       "\n",
       "[550 rows x 7 columns]"
      ]
     },
     "execution_count": 12,
     "metadata": {},
     "output_type": "execute_result"
    }
   ],
   "source": [
    "data"
   ]
  },
  {
   "cell_type": "code",
   "execution_count": 19,
   "id": "DdORNvRc1gcb",
   "metadata": {
    "id": "DdORNvRc1gcb"
   },
   "outputs": [],
   "source": [
    "fiction = data[data.Genre == 'Fiction']"
   ]
  },
  {
   "cell_type": "code",
   "execution_count": 20,
   "id": "nW2xyrjr2Cnx",
   "metadata": {
    "colab": {
     "base_uri": "https://localhost:8080/",
     "height": 424
    },
    "id": "nW2xyrjr2Cnx",
    "outputId": "2c8975e8-5812-4df5-f32d-83c95fd67ef2"
   },
   "outputs": [
    {
     "data": {
      "text/html": [
       "\n",
       "  <div id=\"df-778d7452-c8e3-499e-b9e0-7d97787ebe95\">\n",
       "    <div class=\"colab-df-container\">\n",
       "      <div>\n",
       "<style scoped>\n",
       "    .dataframe tbody tr th:only-of-type {\n",
       "        vertical-align: middle;\n",
       "    }\n",
       "\n",
       "    .dataframe tbody tr th {\n",
       "        vertical-align: top;\n",
       "    }\n",
       "\n",
       "    .dataframe thead th {\n",
       "        text-align: right;\n",
       "    }\n",
       "</style>\n",
       "<table border=\"1\" class=\"dataframe\">\n",
       "  <thead>\n",
       "    <tr style=\"text-align: right;\">\n",
       "      <th></th>\n",
       "      <th>Name</th>\n",
       "      <th>Author</th>\n",
       "      <th>User Rating</th>\n",
       "      <th>Reviews</th>\n",
       "      <th>Price</th>\n",
       "      <th>Year</th>\n",
       "      <th>Genre</th>\n",
       "    </tr>\n",
       "  </thead>\n",
       "  <tbody>\n",
       "    <tr>\n",
       "      <th>1</th>\n",
       "      <td>11/22/63: A Novel</td>\n",
       "      <td>Stephen King</td>\n",
       "      <td>4.6</td>\n",
       "      <td>2052</td>\n",
       "      <td>22</td>\n",
       "      <td>2011</td>\n",
       "      <td>Fiction</td>\n",
       "    </tr>\n",
       "    <tr>\n",
       "      <th>3</th>\n",
       "      <td>1984 (Signet Classics)</td>\n",
       "      <td>George Orwell</td>\n",
       "      <td>4.7</td>\n",
       "      <td>21424</td>\n",
       "      <td>6</td>\n",
       "      <td>2017</td>\n",
       "      <td>Fiction</td>\n",
       "    </tr>\n",
       "    <tr>\n",
       "      <th>5</th>\n",
       "      <td>A Dance with Dragons (A Song of Ice and Fire)</td>\n",
       "      <td>George R. R. Martin</td>\n",
       "      <td>4.4</td>\n",
       "      <td>12643</td>\n",
       "      <td>11</td>\n",
       "      <td>2011</td>\n",
       "      <td>Fiction</td>\n",
       "    </tr>\n",
       "    <tr>\n",
       "      <th>6</th>\n",
       "      <td>A Game of Thrones / A Clash of Kings / A Storm...</td>\n",
       "      <td>George R. R. Martin</td>\n",
       "      <td>4.7</td>\n",
       "      <td>19735</td>\n",
       "      <td>30</td>\n",
       "      <td>2014</td>\n",
       "      <td>Fiction</td>\n",
       "    </tr>\n",
       "    <tr>\n",
       "      <th>7</th>\n",
       "      <td>A Gentleman in Moscow: A Novel</td>\n",
       "      <td>Amor Towles</td>\n",
       "      <td>4.7</td>\n",
       "      <td>19699</td>\n",
       "      <td>15</td>\n",
       "      <td>2017</td>\n",
       "      <td>Fiction</td>\n",
       "    </tr>\n",
       "    <tr>\n",
       "      <th>...</th>\n",
       "      <td>...</td>\n",
       "      <td>...</td>\n",
       "      <td>...</td>\n",
       "      <td>...</td>\n",
       "      <td>...</td>\n",
       "      <td>...</td>\n",
       "      <td>...</td>\n",
       "    </tr>\n",
       "    <tr>\n",
       "      <th>541</th>\n",
       "      <td>Wonder</td>\n",
       "      <td>R. J. Palacio</td>\n",
       "      <td>4.8</td>\n",
       "      <td>21625</td>\n",
       "      <td>9</td>\n",
       "      <td>2014</td>\n",
       "      <td>Fiction</td>\n",
       "    </tr>\n",
       "    <tr>\n",
       "      <th>542</th>\n",
       "      <td>Wonder</td>\n",
       "      <td>R. J. Palacio</td>\n",
       "      <td>4.8</td>\n",
       "      <td>21625</td>\n",
       "      <td>9</td>\n",
       "      <td>2015</td>\n",
       "      <td>Fiction</td>\n",
       "    </tr>\n",
       "    <tr>\n",
       "      <th>543</th>\n",
       "      <td>Wonder</td>\n",
       "      <td>R. J. Palacio</td>\n",
       "      <td>4.8</td>\n",
       "      <td>21625</td>\n",
       "      <td>9</td>\n",
       "      <td>2016</td>\n",
       "      <td>Fiction</td>\n",
       "    </tr>\n",
       "    <tr>\n",
       "      <th>544</th>\n",
       "      <td>Wonder</td>\n",
       "      <td>R. J. Palacio</td>\n",
       "      <td>4.8</td>\n",
       "      <td>21625</td>\n",
       "      <td>9</td>\n",
       "      <td>2017</td>\n",
       "      <td>Fiction</td>\n",
       "    </tr>\n",
       "    <tr>\n",
       "      <th>545</th>\n",
       "      <td>Wrecking Ball (Diary of a Wimpy Kid Book 14)</td>\n",
       "      <td>Jeff Kinney</td>\n",
       "      <td>4.9</td>\n",
       "      <td>9413</td>\n",
       "      <td>8</td>\n",
       "      <td>2019</td>\n",
       "      <td>Fiction</td>\n",
       "    </tr>\n",
       "  </tbody>\n",
       "</table>\n",
       "<p>240 rows × 7 columns</p>\n",
       "</div>\n",
       "      <button class=\"colab-df-convert\" onclick=\"convertToInteractive('df-778d7452-c8e3-499e-b9e0-7d97787ebe95')\"\n",
       "              title=\"Convert this dataframe to an interactive table.\"\n",
       "              style=\"display:none;\">\n",
       "        \n",
       "  <svg xmlns=\"http://www.w3.org/2000/svg\" height=\"24px\"viewBox=\"0 0 24 24\"\n",
       "       width=\"24px\">\n",
       "    <path d=\"M0 0h24v24H0V0z\" fill=\"none\"/>\n",
       "    <path d=\"M18.56 5.44l.94 2.06.94-2.06 2.06-.94-2.06-.94-.94-2.06-.94 2.06-2.06.94zm-11 1L8.5 8.5l.94-2.06 2.06-.94-2.06-.94L8.5 2.5l-.94 2.06-2.06.94zm10 10l.94 2.06.94-2.06 2.06-.94-2.06-.94-.94-2.06-.94 2.06-2.06.94z\"/><path d=\"M17.41 7.96l-1.37-1.37c-.4-.4-.92-.59-1.43-.59-.52 0-1.04.2-1.43.59L10.3 9.45l-7.72 7.72c-.78.78-.78 2.05 0 2.83L4 21.41c.39.39.9.59 1.41.59.51 0 1.02-.2 1.41-.59l7.78-7.78 2.81-2.81c.8-.78.8-2.07 0-2.86zM5.41 20L4 18.59l7.72-7.72 1.47 1.35L5.41 20z\"/>\n",
       "  </svg>\n",
       "      </button>\n",
       "      \n",
       "  <style>\n",
       "    .colab-df-container {\n",
       "      display:flex;\n",
       "      flex-wrap:wrap;\n",
       "      gap: 12px;\n",
       "    }\n",
       "\n",
       "    .colab-df-convert {\n",
       "      background-color: #E8F0FE;\n",
       "      border: none;\n",
       "      border-radius: 50%;\n",
       "      cursor: pointer;\n",
       "      display: none;\n",
       "      fill: #1967D2;\n",
       "      height: 32px;\n",
       "      padding: 0 0 0 0;\n",
       "      width: 32px;\n",
       "    }\n",
       "\n",
       "    .colab-df-convert:hover {\n",
       "      background-color: #E2EBFA;\n",
       "      box-shadow: 0px 1px 2px rgba(60, 64, 67, 0.3), 0px 1px 3px 1px rgba(60, 64, 67, 0.15);\n",
       "      fill: #174EA6;\n",
       "    }\n",
       "\n",
       "    [theme=dark] .colab-df-convert {\n",
       "      background-color: #3B4455;\n",
       "      fill: #D2E3FC;\n",
       "    }\n",
       "\n",
       "    [theme=dark] .colab-df-convert:hover {\n",
       "      background-color: #434B5C;\n",
       "      box-shadow: 0px 1px 3px 1px rgba(0, 0, 0, 0.15);\n",
       "      filter: drop-shadow(0px 1px 2px rgba(0, 0, 0, 0.3));\n",
       "      fill: #FFFFFF;\n",
       "    }\n",
       "  </style>\n",
       "\n",
       "      <script>\n",
       "        const buttonEl =\n",
       "          document.querySelector('#df-778d7452-c8e3-499e-b9e0-7d97787ebe95 button.colab-df-convert');\n",
       "        buttonEl.style.display =\n",
       "          google.colab.kernel.accessAllowed ? 'block' : 'none';\n",
       "\n",
       "        async function convertToInteractive(key) {\n",
       "          const element = document.querySelector('#df-778d7452-c8e3-499e-b9e0-7d97787ebe95');\n",
       "          const dataTable =\n",
       "            await google.colab.kernel.invokeFunction('convertToInteractive',\n",
       "                                                     [key], {});\n",
       "          if (!dataTable) return;\n",
       "\n",
       "          const docLinkHtml = 'Like what you see? Visit the ' +\n",
       "            '<a target=\"_blank\" href=https://colab.research.google.com/notebooks/data_table.ipynb>data table notebook</a>'\n",
       "            + ' to learn more about interactive tables.';\n",
       "          element.innerHTML = '';\n",
       "          dataTable['output_type'] = 'display_data';\n",
       "          await google.colab.output.renderOutput(dataTable, element);\n",
       "          const docLink = document.createElement('div');\n",
       "          docLink.innerHTML = docLinkHtml;\n",
       "          element.appendChild(docLink);\n",
       "        }\n",
       "      </script>\n",
       "    </div>\n",
       "  </div>\n",
       "  "
      ],
      "text/plain": [
       "                                                  Name               Author  \\\n",
       "1                                    11/22/63: A Novel         Stephen King   \n",
       "3                               1984 (Signet Classics)        George Orwell   \n",
       "5        A Dance with Dragons (A Song of Ice and Fire)  George R. R. Martin   \n",
       "6    A Game of Thrones / A Clash of Kings / A Storm...  George R. R. Martin   \n",
       "7                       A Gentleman in Moscow: A Novel          Amor Towles   \n",
       "..                                                 ...                  ...   \n",
       "541                                             Wonder        R. J. Palacio   \n",
       "542                                             Wonder        R. J. Palacio   \n",
       "543                                             Wonder        R. J. Palacio   \n",
       "544                                             Wonder        R. J. Palacio   \n",
       "545       Wrecking Ball (Diary of a Wimpy Kid Book 14)          Jeff Kinney   \n",
       "\n",
       "     User Rating  Reviews  Price  Year    Genre  \n",
       "1            4.6     2052     22  2011  Fiction  \n",
       "3            4.7    21424      6  2017  Fiction  \n",
       "5            4.4    12643     11  2011  Fiction  \n",
       "6            4.7    19735     30  2014  Fiction  \n",
       "7            4.7    19699     15  2017  Fiction  \n",
       "..           ...      ...    ...   ...      ...  \n",
       "541          4.8    21625      9  2014  Fiction  \n",
       "542          4.8    21625      9  2015  Fiction  \n",
       "543          4.8    21625      9  2016  Fiction  \n",
       "544          4.8    21625      9  2017  Fiction  \n",
       "545          4.9     9413      8  2019  Fiction  \n",
       "\n",
       "[240 rows x 7 columns]"
      ]
     },
     "execution_count": 20,
     "metadata": {},
     "output_type": "execute_result"
    }
   ],
   "source": [
    "fiction"
   ]
  },
  {
   "cell_type": "code",
   "execution_count": 21,
   "id": "a5FZYJI52TKL",
   "metadata": {
    "colab": {
     "base_uri": "https://localhost:8080/"
    },
    "id": "a5FZYJI52TKL",
    "outputId": "da30ca80-fc70-4c1c-e8e4-3ec34aa2d844"
   },
   "outputs": [
    {
     "data": {
      "text/plain": [
       "0      False\n",
       "1       True\n",
       "2      False\n",
       "3       True\n",
       "4      False\n",
       "       ...  \n",
       "545     True\n",
       "546    False\n",
       "547    False\n",
       "548    False\n",
       "549    False\n",
       "Name: Genre, Length: 550, dtype: bool"
      ]
     },
     "execution_count": 21,
     "metadata": {},
     "output_type": "execute_result"
    }
   ],
   "source": [
    "data.Genre == 'Fiction'"
   ]
  },
  {
   "cell_type": "code",
   "execution_count": 26,
   "id": "_ucDZ1Tu3as8",
   "metadata": {
    "id": "_ucDZ1Tu3as8"
   },
   "outputs": [],
   "source": [
    "nonfiction = data[data.Genre == 'Non Fiction']"
   ]
  },
  {
   "cell_type": "code",
   "execution_count": 27,
   "id": "y4NKjz4b3mjy",
   "metadata": {
    "colab": {
     "base_uri": "https://localhost:8080/",
     "height": 424
    },
    "id": "y4NKjz4b3mjy",
    "outputId": "ce12e0e1-ebe3-4fc7-cf99-430fb784582d"
   },
   "outputs": [
    {
     "data": {
      "text/html": [
       "\n",
       "  <div id=\"df-9a4f027e-1465-4b3f-a1d0-72d479374d94\">\n",
       "    <div class=\"colab-df-container\">\n",
       "      <div>\n",
       "<style scoped>\n",
       "    .dataframe tbody tr th:only-of-type {\n",
       "        vertical-align: middle;\n",
       "    }\n",
       "\n",
       "    .dataframe tbody tr th {\n",
       "        vertical-align: top;\n",
       "    }\n",
       "\n",
       "    .dataframe thead th {\n",
       "        text-align: right;\n",
       "    }\n",
       "</style>\n",
       "<table border=\"1\" class=\"dataframe\">\n",
       "  <thead>\n",
       "    <tr style=\"text-align: right;\">\n",
       "      <th></th>\n",
       "      <th>Name</th>\n",
       "      <th>Author</th>\n",
       "      <th>User Rating</th>\n",
       "      <th>Reviews</th>\n",
       "      <th>Price</th>\n",
       "      <th>Year</th>\n",
       "      <th>Genre</th>\n",
       "    </tr>\n",
       "  </thead>\n",
       "  <tbody>\n",
       "    <tr>\n",
       "      <th>0</th>\n",
       "      <td>10-Day Green Smoothie Cleanse</td>\n",
       "      <td>JJ Smith</td>\n",
       "      <td>4.7</td>\n",
       "      <td>17350</td>\n",
       "      <td>8</td>\n",
       "      <td>2016</td>\n",
       "      <td>Non Fiction</td>\n",
       "    </tr>\n",
       "    <tr>\n",
       "      <th>2</th>\n",
       "      <td>12 Rules for Life: An Antidote to Chaos</td>\n",
       "      <td>Jordan B. Peterson</td>\n",
       "      <td>4.7</td>\n",
       "      <td>18979</td>\n",
       "      <td>15</td>\n",
       "      <td>2018</td>\n",
       "      <td>Non Fiction</td>\n",
       "    </tr>\n",
       "    <tr>\n",
       "      <th>4</th>\n",
       "      <td>5,000 Awesome Facts (About Everything!) (Natio...</td>\n",
       "      <td>National Geographic Kids</td>\n",
       "      <td>4.8</td>\n",
       "      <td>7665</td>\n",
       "      <td>12</td>\n",
       "      <td>2019</td>\n",
       "      <td>Non Fiction</td>\n",
       "    </tr>\n",
       "    <tr>\n",
       "      <th>8</th>\n",
       "      <td>A Higher Loyalty: Truth, Lies, and Leadership</td>\n",
       "      <td>James Comey</td>\n",
       "      <td>4.7</td>\n",
       "      <td>5983</td>\n",
       "      <td>3</td>\n",
       "      <td>2018</td>\n",
       "      <td>Non Fiction</td>\n",
       "    </tr>\n",
       "    <tr>\n",
       "      <th>11</th>\n",
       "      <td>A Patriot's History of the United States: From...</td>\n",
       "      <td>Larry Schweikart</td>\n",
       "      <td>4.6</td>\n",
       "      <td>460</td>\n",
       "      <td>2</td>\n",
       "      <td>2010</td>\n",
       "      <td>Non Fiction</td>\n",
       "    </tr>\n",
       "    <tr>\n",
       "      <th>...</th>\n",
       "      <td>...</td>\n",
       "      <td>...</td>\n",
       "      <td>...</td>\n",
       "      <td>...</td>\n",
       "      <td>...</td>\n",
       "      <td>...</td>\n",
       "      <td>...</td>\n",
       "    </tr>\n",
       "    <tr>\n",
       "      <th>539</th>\n",
       "      <td>Women Food and God: An Unexpected Path to Almo...</td>\n",
       "      <td>Geneen Roth</td>\n",
       "      <td>4.2</td>\n",
       "      <td>1302</td>\n",
       "      <td>11</td>\n",
       "      <td>2010</td>\n",
       "      <td>Non Fiction</td>\n",
       "    </tr>\n",
       "    <tr>\n",
       "      <th>546</th>\n",
       "      <td>You Are a Badass: How to Stop Doubting Your Gr...</td>\n",
       "      <td>Jen Sincero</td>\n",
       "      <td>4.7</td>\n",
       "      <td>14331</td>\n",
       "      <td>8</td>\n",
       "      <td>2016</td>\n",
       "      <td>Non Fiction</td>\n",
       "    </tr>\n",
       "    <tr>\n",
       "      <th>547</th>\n",
       "      <td>You Are a Badass: How to Stop Doubting Your Gr...</td>\n",
       "      <td>Jen Sincero</td>\n",
       "      <td>4.7</td>\n",
       "      <td>14331</td>\n",
       "      <td>8</td>\n",
       "      <td>2017</td>\n",
       "      <td>Non Fiction</td>\n",
       "    </tr>\n",
       "    <tr>\n",
       "      <th>548</th>\n",
       "      <td>You Are a Badass: How to Stop Doubting Your Gr...</td>\n",
       "      <td>Jen Sincero</td>\n",
       "      <td>4.7</td>\n",
       "      <td>14331</td>\n",
       "      <td>8</td>\n",
       "      <td>2018</td>\n",
       "      <td>Non Fiction</td>\n",
       "    </tr>\n",
       "    <tr>\n",
       "      <th>549</th>\n",
       "      <td>You Are a Badass: How to Stop Doubting Your Gr...</td>\n",
       "      <td>Jen Sincero</td>\n",
       "      <td>4.7</td>\n",
       "      <td>14331</td>\n",
       "      <td>8</td>\n",
       "      <td>2019</td>\n",
       "      <td>Non Fiction</td>\n",
       "    </tr>\n",
       "  </tbody>\n",
       "</table>\n",
       "<p>310 rows × 7 columns</p>\n",
       "</div>\n",
       "      <button class=\"colab-df-convert\" onclick=\"convertToInteractive('df-9a4f027e-1465-4b3f-a1d0-72d479374d94')\"\n",
       "              title=\"Convert this dataframe to an interactive table.\"\n",
       "              style=\"display:none;\">\n",
       "        \n",
       "  <svg xmlns=\"http://www.w3.org/2000/svg\" height=\"24px\"viewBox=\"0 0 24 24\"\n",
       "       width=\"24px\">\n",
       "    <path d=\"M0 0h24v24H0V0z\" fill=\"none\"/>\n",
       "    <path d=\"M18.56 5.44l.94 2.06.94-2.06 2.06-.94-2.06-.94-.94-2.06-.94 2.06-2.06.94zm-11 1L8.5 8.5l.94-2.06 2.06-.94-2.06-.94L8.5 2.5l-.94 2.06-2.06.94zm10 10l.94 2.06.94-2.06 2.06-.94-2.06-.94-.94-2.06-.94 2.06-2.06.94z\"/><path d=\"M17.41 7.96l-1.37-1.37c-.4-.4-.92-.59-1.43-.59-.52 0-1.04.2-1.43.59L10.3 9.45l-7.72 7.72c-.78.78-.78 2.05 0 2.83L4 21.41c.39.39.9.59 1.41.59.51 0 1.02-.2 1.41-.59l7.78-7.78 2.81-2.81c.8-.78.8-2.07 0-2.86zM5.41 20L4 18.59l7.72-7.72 1.47 1.35L5.41 20z\"/>\n",
       "  </svg>\n",
       "      </button>\n",
       "      \n",
       "  <style>\n",
       "    .colab-df-container {\n",
       "      display:flex;\n",
       "      flex-wrap:wrap;\n",
       "      gap: 12px;\n",
       "    }\n",
       "\n",
       "    .colab-df-convert {\n",
       "      background-color: #E8F0FE;\n",
       "      border: none;\n",
       "      border-radius: 50%;\n",
       "      cursor: pointer;\n",
       "      display: none;\n",
       "      fill: #1967D2;\n",
       "      height: 32px;\n",
       "      padding: 0 0 0 0;\n",
       "      width: 32px;\n",
       "    }\n",
       "\n",
       "    .colab-df-convert:hover {\n",
       "      background-color: #E2EBFA;\n",
       "      box-shadow: 0px 1px 2px rgba(60, 64, 67, 0.3), 0px 1px 3px 1px rgba(60, 64, 67, 0.15);\n",
       "      fill: #174EA6;\n",
       "    }\n",
       "\n",
       "    [theme=dark] .colab-df-convert {\n",
       "      background-color: #3B4455;\n",
       "      fill: #D2E3FC;\n",
       "    }\n",
       "\n",
       "    [theme=dark] .colab-df-convert:hover {\n",
       "      background-color: #434B5C;\n",
       "      box-shadow: 0px 1px 3px 1px rgba(0, 0, 0, 0.15);\n",
       "      filter: drop-shadow(0px 1px 2px rgba(0, 0, 0, 0.3));\n",
       "      fill: #FFFFFF;\n",
       "    }\n",
       "  </style>\n",
       "\n",
       "      <script>\n",
       "        const buttonEl =\n",
       "          document.querySelector('#df-9a4f027e-1465-4b3f-a1d0-72d479374d94 button.colab-df-convert');\n",
       "        buttonEl.style.display =\n",
       "          google.colab.kernel.accessAllowed ? 'block' : 'none';\n",
       "\n",
       "        async function convertToInteractive(key) {\n",
       "          const element = document.querySelector('#df-9a4f027e-1465-4b3f-a1d0-72d479374d94');\n",
       "          const dataTable =\n",
       "            await google.colab.kernel.invokeFunction('convertToInteractive',\n",
       "                                                     [key], {});\n",
       "          if (!dataTable) return;\n",
       "\n",
       "          const docLinkHtml = 'Like what you see? Visit the ' +\n",
       "            '<a target=\"_blank\" href=https://colab.research.google.com/notebooks/data_table.ipynb>data table notebook</a>'\n",
       "            + ' to learn more about interactive tables.';\n",
       "          element.innerHTML = '';\n",
       "          dataTable['output_type'] = 'display_data';\n",
       "          await google.colab.output.renderOutput(dataTable, element);\n",
       "          const docLink = document.createElement('div');\n",
       "          docLink.innerHTML = docLinkHtml;\n",
       "          element.appendChild(docLink);\n",
       "        }\n",
       "      </script>\n",
       "    </div>\n",
       "  </div>\n",
       "  "
      ],
      "text/plain": [
       "                                                  Name  \\\n",
       "0                        10-Day Green Smoothie Cleanse   \n",
       "2              12 Rules for Life: An Antidote to Chaos   \n",
       "4    5,000 Awesome Facts (About Everything!) (Natio...   \n",
       "8        A Higher Loyalty: Truth, Lies, and Leadership   \n",
       "11   A Patriot's History of the United States: From...   \n",
       "..                                                 ...   \n",
       "539  Women Food and God: An Unexpected Path to Almo...   \n",
       "546  You Are a Badass: How to Stop Doubting Your Gr...   \n",
       "547  You Are a Badass: How to Stop Doubting Your Gr...   \n",
       "548  You Are a Badass: How to Stop Doubting Your Gr...   \n",
       "549  You Are a Badass: How to Stop Doubting Your Gr...   \n",
       "\n",
       "                       Author  User Rating  Reviews  Price  Year        Genre  \n",
       "0                    JJ Smith          4.7    17350      8  2016  Non Fiction  \n",
       "2          Jordan B. Peterson          4.7    18979     15  2018  Non Fiction  \n",
       "4    National Geographic Kids          4.8     7665     12  2019  Non Fiction  \n",
       "8                 James Comey          4.7     5983      3  2018  Non Fiction  \n",
       "11           Larry Schweikart          4.6      460      2  2010  Non Fiction  \n",
       "..                        ...          ...      ...    ...   ...          ...  \n",
       "539               Geneen Roth          4.2     1302     11  2010  Non Fiction  \n",
       "546               Jen Sincero          4.7    14331      8  2016  Non Fiction  \n",
       "547               Jen Sincero          4.7    14331      8  2017  Non Fiction  \n",
       "548               Jen Sincero          4.7    14331      8  2018  Non Fiction  \n",
       "549               Jen Sincero          4.7    14331      8  2019  Non Fiction  \n",
       "\n",
       "[310 rows x 7 columns]"
      ]
     },
     "execution_count": 27,
     "metadata": {},
     "output_type": "execute_result"
    }
   ],
   "source": [
    "nonfiction"
   ]
  },
  {
   "cell_type": "code",
   "execution_count": 39,
   "id": "-Ukh6RKRAvoy",
   "metadata": {
    "id": "-Ukh6RKRAvoy"
   },
   "outputs": [],
   "source": [
    "Genre_counts = df.groupby('Genre').size()"
   ]
  },
  {
   "cell_type": "markdown",
   "id": "KlU5rri7Cfzb",
   "metadata": {
    "id": "KlU5rri7Cfzb"
   },
   "source": [
    "#Visualize the results using a bar chart"
   ]
  },
  {
   "cell_type": "code",
   "execution_count": 41,
   "id": "77c5pYKYB97R",
   "metadata": {
    "colab": {
     "base_uri": "https://localhost:8080/",
     "height": 341
    },
    "id": "77c5pYKYB97R",
    "outputId": "5855074a-61a3-4ac8-9f0d-c5dd977f1d9f"
   },
   "outputs": [
    {
     "data": {
      "image/png": "[encoded data removed]",
      "text/plain": [
       "<Figure size 432x288 with 1 Axes>"
      ]
     },
     "metadata": {
      "needs_background": "light"
     },
     "output_type": "display_data"
    }
   ],
   "source": [
    "Genre_counts.plot(kind=\"bar\")\n",
    "plt.title(\"Number of Books Published by Genre (2009-2019)\")\n",
    "plt.xlabel(\"Genre\")\n",
    "plt.ylabel(\"Number of Books\")\n",
    "plt.show()"
   ]
  },
  {
   "cell_type": "code",
   "execution_count": 60,
   "id": "eJs_dHycDuap",
   "metadata": {
    "id": "eJs_dHycDuap"
   },
   "outputs": [],
   "source": [
    "# Convert 'Year' column to datetime format\n",
    "\n",
    "df['Year'] = pd.to_datetime(df['Year'], format='%Y')"
   ]
  },
  {
   "cell_type": "code",
   "execution_count": 65,
   "id": "n0oxNn6xQNHp",
   "metadata": {
    "id": "n0oxNn6xQNHp"
   },
   "outputs": [],
   "source": [
    "# Select the two genres of interest\n",
    "\n",
    "genre1 = 'fiction'\n",
    "genre2 = 'Non Fiction'\n",
    "df_genre = df[(df['Genre'] == genre1) | (df['Genre'] == genre2)]"
   ]
  },
  {
   "cell_type": "code",
   "execution_count": 70,
   "id": "ckkA_5XjS-G5",
   "metadata": {
    "id": "ckkA_5XjS-G5"
   },
   "outputs": [],
   "source": [
    "#Filter data to only include dates between 2009 and 2010\n",
    "start_date = '2009-01-01'\n",
    "end_date = '2019-12-31'\n",
    "df_filtered = df[(df['Year'] >= start_date) & (df['Year'] <= end_date)]"
   ]
  },
  {
   "cell_type": "code",
   "execution_count": 71,
   "id": "ilo1Wpj8Eahx",
   "metadata": {
    "id": "ilo1Wpj8Eahx"
   },
   "outputs": [],
   "source": [
    "# Group the filtered data by year and genre, and count the number of entries\n",
    "genre_counts = df_genre.groupby([df_genre['Year'].dt.year, 'Genre'])['Name'].count()"
   ]
  },
  {
   "cell_type": "code",
   "execution_count": 74,
   "id": "AfoYIsZ7UBOc",
   "metadata": {
    "id": "AfoYIsZ7UBOc"
   },
   "outputs": [],
   "source": [
    "# Convert the grouped data to a dataframe and reset teh index\n",
    "genre_counts = genre_counts.reset_index(name='Count')"
   ]
  },
  {
   "cell_type": "code",
   "execution_count": 75,
   "id": "MQRwZrUvPFpM",
   "metadata": {
    "id": "MQRwZrUvPFpM"
   },
   "outputs": [],
   "source": [
    "# Pivot the dataframe to create a table of counts by year and genre\n",
    "genre_table = genre_counts.pivot(index='Year', columns='Genre', values='Count')"
   ]
  },
  {
   "cell_type": "code",
   "execution_count": 80,
   "id": "Fcrg2CunPO5x",
   "metadata": {
    "colab": {
     "base_uri": "https://localhost:8080/",
     "height": 295
    },
    "id": "Fcrg2CunPO5x",
    "outputId": "391b09ed-70aa-44b1-afa9-b39a02f5606e"
   },
   "outputs": [
    {
     "data": {
      "image/png": "[encoded data removed]",
      "text/plain": [
       "<Figure size 432x288 with 1 Axes>"
      ]
     },
     "metadata": {
      "needs_background": "light"
     },
     "output_type": "display_data"
    }
   ],
   "source": [
    "# Create a line chart to compare the popularity of the two genres by year\n",
    "genre_table.plot(kind='line')\n",
    "plt.xlabel('Year')\n",
    "plt.ylabel('Number of Bestsellers')\n",
    "plt.title('Popularity of Book Genres from 2009 to 2019')\n",
    "plt.ylim(2009, genre_table.max().max() + 10)\n",
    "\n",
    "plt.show()"
   ]
  },
  {
   "cell_type": "code",
   "execution_count": 13,
   "id": "f3142334",
   "metadata": {},
   "outputs": [],
   "source": [
    "import pandas as pd"
   ]
  },
  {
   "cell_type": "code",
   "execution_count": 14,
   "id": "d01da1ed",
   "metadata": {},
   "outputs": [],
   "source": [
    "# Read the CSV file into a DataFrame\n",
    "df=pd.read_csv('bestsellers_with_categories.csv')"
   ]
  },
  {
   "cell_type": "code",
   "execution_count": 15,
   "id": "a1f8cda6",
   "metadata": {},
   "outputs": [],
   "source": [
    "# Create a dictionary from the DataFrame\n",
    "data_dict = df.to_dict()"
   ]
  },
  {
   "cell_type": "code",
   "execution_count": 16,
   "id": "d89926d4",
   "metadata": {},
   "outputs": [
    {
     "name": "stdout",
     "output_type": "stream",
     "text": [
      "{'Name': {0: '10-Day Green Smoothie Cleanse', 1: '11/22/63: A Novel', 2: '12 Rules for Life: An Antidote to Chaos', 3: '1984 (Signet Classics)', 4: '5,000 Awesome Facts (About Everything!) (National Geographic Kids)', 5: 'A Dance with Dragons (A Song of Ice and Fire)', 6: 'A Game of Thrones / A Clash of Kings / A Storm of Swords / A Feast of Crows / A Dance with Dragons', 7: 'A Gentleman in Moscow: A Novel', 8: 'A Higher Loyalty: Truth, Lies, and Leadership', 9: 'A Man Called Ove: A Novel', 10: 'A Man Called Ove: A Novel', 11: \"A Patriot's History of the United States: From Columbus's Great Discovery to the War on Terror\", 12: 'A Stolen Life: A Memoir', 13: 'A Wrinkle in Time (Time Quintet)', 14: 'Act Like a Lady, Think Like a Man: What Men Really Think About Love, Relationships, Intimacy, and Commitment', 15: 'Adult Coloring Book Designs: Stress Relief Coloring Book: Garden Designs, Mandalas, Animals, and Paisley Patterns', 16: 'Adult Coloring Book: Stress Relieving Animal Designs', 17: 'Adult Coloring Book: Stress Relieving Patterns', 18: 'Adult Coloring Books: A Coloring Book for Adults Featuring Mandalas and Henna Inspired Flowers, Animals, and Paisley…', 19: 'Alexander Hamilton', 20: 'All the Light We Cannot See', 21: 'All the Light We Cannot See', 22: 'Allegiant', 23: 'American Sniper: The Autobiography of the Most Lethal Sniper in U.S. Military History', 24: 'And the Mountains Echoed', 25: 'Arguing with Idiots: How to Stop Small Minds and Big Government', 26: 'Astrophysics for People in a Hurry', 27: 'Autobiography of Mark Twain, Vol. 1', 28: 'Baby Touch and Feel: Animals', 29: \"Balance (Angie's Extreme Stress Menders)\", 30: 'Barefoot Contessa Foolproof: Recipes You Can Trust: A Cookbook', 31: 'Barefoot Contessa, How Easy Is That?: Fabulous Recipes & Easy Tips', 32: 'Becoming', 33: 'Becoming', 34: 'Being Mortal: Medicine and What Matters in the End', 35: 'Between the World and Me', 36: 'Between the World and Me', 37: 'Born to Run', 38: 'Breaking Dawn (The Twilight Saga, Book 4)', 39: 'Broke: The Plan to Restore Our Trust, Truth and Treasure', 40: 'Brown Bear, Brown Bear, What Do You See?', 41: 'Brown Bear, Brown Bear, What Do You See?', 42: 'Cabin Fever (Diary of a Wimpy Kid, Book 6)', 43: 'Calm the F*ck Down: An Irreverent Adult Coloring Book (Irreverent Book Series)', 44: \"Can't Hurt Me: Master Your Mind and Defy the Odds\", 45: 'Capital in the Twenty First Century', 46: 'Catching Fire (The Hunger Games)', 47: 'Catching Fire (The Hunger Games)', 48: 'Catching Fire (The Hunger Games)', 49: 'Cravings: Recipes for All the Food You Want to Eat: A Cookbook', 50: 'Crazy Love: Overwhelmed by a Relentless God', 51: 'Crazy Love: Overwhelmed by a Relentless God', 52: 'Crazy Love: Overwhelmed by a Relentless God', 53: 'Crazy Rich Asians (Crazy Rich Asians Trilogy)', 54: 'Creative Haven Creative Cats Coloring Book (Adult Coloring)', 55: 'Creative Haven Owls Coloring Book (Adult Coloring)', 56: 'Cutting for Stone', 57: 'Cutting for Stone', 58: 'Daring Greatly: How the Courage to Be Vulnerable Transforms the Way We Live, Love, Parent, and Lead', 59: 'David and Goliath: Underdogs, Misfits, and the Art of Battling Giants', 60: 'Dead And Gone: A Sookie Stackhouse Novel (Sookie Stackhouse/True Blood)', 61: 'Dead in the Family (Sookie Stackhouse/True Blood, Book 10)', 62: 'Dead Reckoning (Sookie Stackhouse/True Blood, Book 11)', 63: 'Dear Zoo: A Lift-the-Flap Book', 64: 'Dear Zoo: A Lift-the-Flap Book', 65: 'Dear Zoo: A Lift-the-Flap Book', 66: 'Dear Zoo: A Lift-the-Flap Book', 67: 'Decision Points', 68: 'Delivering Happiness: A Path to Profits, Passion, and Purpose', 69: 'Diagnostic and Statistical Manual of Mental Disorders, 5th Edition: DSM-5', 70: 'Diagnostic and Statistical Manual of Mental Disorders, 5th Edition: DSM-5', 71: 'Diary of a Wimpy Kid: Hard Luck, Book 8', 72: 'Diary of a Wimpy Kid: The Last Straw (Book 3)', 73: 'Diary of a Wimpy Kid: The Long Haul', 74: 'Difficult Riddles For Smart Kids: 300 Difficult Riddles And Brain Teasers Families Will Love (Books for Smart Kids)', 75: 'Divergent', 76: 'Divergent', 77: 'Divergent / Insurgent', 78: 'Divine Soul Mind Body Healing and Transmission System: The Divine Way to Heal You, Humanity, Mother Earth, and All…', 79: 'Doctor Sleep: A Novel', 80: 'Dog Days (Diary of a Wimpy Kid, Book 4) (Volume 4)', 81: 'Dog Man and Cat Kid: From the Creator of Captain Underpants (Dog Man #4)', 82: 'Dog Man: A Tale of Two Kitties: From the Creator of Captain Underpants (Dog Man #3)', 83: 'Dog Man: Brawl of the Wild: From the Creator of Captain Underpants (Dog Man #6)', 84: 'Dog Man: Brawl of the Wild: From the Creator of Captain Underpants (Dog Man #6)', 85: 'Dog Man: Fetch-22: From the Creator of Captain Underpants (Dog Man #8)', 86: 'Dog Man: For Whom the Ball Rolls: From the Creator of Captain Underpants (Dog Man #7)', 87: 'Dog Man: Lord of the Fleas: From the Creator of Captain Underpants (Dog Man #5)', 88: 'Double Down (Diary of a Wimpy Kid #11)', 89: 'Dover Creative Haven Art Nouveau Animal Designs Coloring Book (Creative Haven Coloring Books)', 90: 'Drive: The Surprising Truth About What Motivates Us', 91: 'Eat This Not That! Supermarket Survival Guide: The No-Diet Weight Loss Solution', 92: 'Eat This, Not That! Thousands of Simple Food Swaps that Can Save You 10, 20, 30 Pounds--or More!', 93: 'Eat to Live: The Amazing Nutrient-Rich Program for Fast and Sustained Weight Loss, Revised Edition', 94: 'Eat to Live: The Amazing Nutrient-Rich Program for Fast and Sustained Weight Loss, Revised Edition', 95: 'Eclipse (Twilight Sagas)', 96: 'Eclipse (Twilight)', 97: 'Educated: A Memoir', 98: 'Educated: A Memoir', 99: 'Enchanted Forest: An Inky Quest and Coloring book (Activity Books, Mindfulness and Meditation, Illustrated Floral Prints…', 100: 'Fahrenheit 451', 101: 'Fahrenheit 451', 102: 'Fantastic Beasts and Where to Find Them: The Original Screenplay (Harry Potter)', 103: 'Fear: Trump in the White House', 104: 'Fifty Shades Darker', 105: 'Fifty Shades Freed: Book Three of the Fifty Shades Trilogy (Fifty Shades of Grey Series) (English Edition)', 106: 'Fifty Shades of Grey: Book One of the Fifty Shades Trilogy (Fifty Shades of Grey Series)', 107: 'Fifty Shades of Grey: Book One of the Fifty Shades Trilogy (Fifty Shades of Grey Series)', 108: 'Fifty Shades Trilogy (Fifty Shades of Grey / Fifty Shades Darker / Fifty Shades Freed)', 109: 'Fire and Fury: Inside the Trump White House', 110: 'First 100 Words', 111: 'First 100 Words', 112: 'First 100 Words', 113: 'First 100 Words', 114: 'First 100 Words', 115: \"Food Rules: An Eater's Manual\", 116: 'Frozen (Little Golden Book)', 117: 'Game Change: Obama and the Clintons, McCain and Palin, and the Race of a Lifetime', 118: 'Game of Thrones Boxed Set: A Game of Thrones/A Clash of Kings/A Storm of Swords/A Feast for Crows', 119: 'Game of Thrones Boxed Set: A Game of Thrones/A Clash of Kings/A Storm of Swords/A Feast for Crows', 120: 'Game of Thrones Boxed Set: A Game of Thrones/A Clash of Kings/A Storm of Swords/A Feast for Crows', 121: \"George Washington's Sacred Fire\", 122: \"George Washington's Secret Six: The Spy Ring That Saved the American Revolution\", 123: \"Giraffes Can't Dance\", 124: \"Giraffes Can't Dance\", 125: \"Giraffes Can't Dance\", 126: \"Giraffes Can't Dance\", 127: \"Giraffes Can't Dance\", 128: 'Girl, Stop Apologizing: A Shame-Free Plan for Embracing and Achieving Your Goals', 129: 'Girl, Wash Your Face: Stop Believing the Lies About Who You Are So You Can Become Who You Were Meant to Be', 130: 'Girl, Wash Your Face: Stop Believing the Lies About Who You Are So You Can Become Who You Were Meant to Be', 131: \"Glenn Beck's Common Sense: The Case Against an Out-of-Control Government, Inspired by Thomas Paine\", 132: 'Go Set a Watchman: A Novel', 133: 'Go the F**k to Sleep', 134: 'Going Rogue: An American Life', 135: 'Gone Girl', 136: 'Gone Girl', 137: 'Gone Girl', 138: 'Good Days Start With Gratitude: A 52 Week Guide To Cultivate An Attitude Of Gratitude: Gratitude Journal', 139: \"Good to Great: Why Some Companies Make the Leap and Others Don't\", 140: \"Good to Great: Why Some Companies Make the Leap and Others Don't\", 141: \"Good to Great: Why Some Companies Make the Leap and Others Don't\", 142: \"Good to Great: Why Some Companies Make the Leap and Others Don't\", 143: 'Goodnight Moon', 144: 'Goodnight Moon', 145: 'Goodnight Moon', 146: 'Goodnight, Goodnight Construction Site (Hardcover Books for Toddlers, Preschool Books for Kids)', 147: 'Goodnight, Goodnight Construction Site (Hardcover Books for Toddlers, Preschool Books for Kids)', 148: \"Grain Brain: The Surprising Truth about Wheat, Carbs, and Sugar--Your Brain's Silent Killers\", 149: 'Grey: Fifty Shades of Grey as Told by Christian (Fifty Shades of Grey Series)', 150: 'Guts', 151: 'Hamilton: The Revolution', 152: 'Happy, Happy, Happy: My Life and Legacy as the Duck Commander', 153: 'Harry Potter and the Chamber of Secrets: The Illustrated Edition (Harry Potter, Book 2)', 154: 'Harry Potter and the Cursed Child, Parts 1 & 2, Special Rehearsal Edition Script', 155: 'Harry Potter and the Goblet of Fire: The Illustrated Edition (Harry Potter, Book 4) (4)', 156: 'Harry Potter and the Prisoner of Azkaban: The Illustrated Edition (Harry Potter, Book 3)', 157: \"Harry Potter and the Sorcerer's Stone: The Illustrated Edition (Harry Potter, Book 1)\", 158: 'Harry Potter Coloring Book', 159: 'Harry Potter Paperback Box Set (Books 1-7)', 160: 'Have a Little Faith: A True Story', 161: \"Heaven is for Real: A Little Boy's Astounding Story of His Trip to Heaven and Back\", 162: \"Heaven is for Real: A Little Boy's Astounding Story of His Trip to Heaven and Back\", 163: 'Hillbilly Elegy: A Memoir of a Family and Culture in Crisis', 164: 'Hillbilly Elegy: A Memoir of a Family and Culture in Crisis', 165: 'Homebody: A Guide to Creating Spaces You Never Want to Leave', 166: 'How to Win Friends & Influence People', 167: 'How to Win Friends & Influence People', 168: 'How to Win Friends & Influence People', 169: 'How to Win Friends & Influence People', 170: 'How to Win Friends & Influence People', 171: 'Howard Stern Comes Again', 172: 'Humans of New York', 173: 'Humans of New York', 174: 'Humans of New York : Stories', 175: 'Hyperbole and a Half: Unfortunate Situations, Flawed Coping Mechanisms, Mayhem, and Other Things That Happened', 176: 'I Am Confident, Brave & Beautiful: A Coloring Book for Girls', 177: 'I, Alex Cross', 178: 'If Animals Kissed Good Night', 179: 'If Animals Kissed Good Night', 180: 'If I Stay', 181: \"In the Garden of Beasts: Love, Terror, and an American Family in Hitler's Berlin\", 182: 'Inferno', 183: 'Inheritance: Book IV (Inheritance Cycle)', 184: 'Instant Pot Pressure Cooker Cookbook: 500 Everyday Recipes for Beginners and Advanced Users. Try Easy and Healthy…', 185: 'Instant Pot Pressure Cooker Cookbook: 500 Everyday Recipes for Beginners and Advanced Users. Try Easy and Healthy…', 186: \"It's Not Supposed to Be This Way: Finding Unexpected Strength When Disappointments Leave You Shattered\", 187: 'Jesus Calling: Enjoying Peace in His Presence (with Scripture References)', 188: 'Jesus Calling: Enjoying Peace in His Presence (with Scripture References)', 189: 'Jesus Calling: Enjoying Peace in His Presence (with Scripture References)', 190: 'Jesus Calling: Enjoying Peace in His Presence (with Scripture References)', 191: 'Jesus Calling: Enjoying Peace in His Presence (with Scripture References)', 192: 'Jesus Calling: Enjoying Peace in His Presence (with Scripture References)', 193: 'JOURNEY TO THE ICE P', 194: 'Joyland (Hard Case Crime)', 195: 'Killers of the Flower Moon: The Osage Murders and the Birth of the FBI', 196: \"Killing Jesus (Bill O'Reilly's Killing Series)\", 197: 'Killing Kennedy: The End of Camelot', 198: \"Killing Lincoln: The Shocking Assassination that Changed America Forever (Bill O'Reilly's Killing Series)\", 199: \"Killing Lincoln: The Shocking Assassination that Changed America Forever (Bill O'Reilly's Killing Series)\", 200: \"Killing Patton: The Strange Death of World War II's Most Audacious General (Bill O'Reilly's Killing Series)\", 201: \"Killing Reagan: The Violent Assault That Changed a Presidency (Bill O'Reilly's Killing Series)\", 202: \"Killing the Rising Sun: How America Vanquished World War II Japan (Bill O'Reilly's Killing Series)\", 203: 'Kitchen Confidential Updated Edition: Adventures in the Culinary Underbelly (P.S.)', 204: 'Knock-Knock Jokes for Kids', 205: 'Knock-Knock Jokes for Kids', 206: 'Knock-Knock Jokes for Kids', 207: 'Last Week Tonight with John Oliver Presents A Day in the Life of Marlon Bundo (Better Bundo Book, LGBT Children\\x92s Book)', 208: 'Laugh-Out-Loud Jokes for Kids', 209: 'Laugh-Out-Loud Jokes for Kids', 210: 'Laugh-Out-Loud Jokes for Kids', 211: 'Laugh-Out-Loud Jokes for Kids', 212: 'Laugh-Out-Loud Jokes for Kids', 213: 'Lean In: Women, Work, and the Will to Lead', 214: 'Leonardo da Vinci', 215: \"Lettering and Modern Calligraphy: A Beginner's Guide: Learn Hand Lettering and Brush Lettering\", 216: 'Liberty and Tyranny: A Conservative Manifesto', 217: 'Life', 218: 'Little Bee: A Novel', 219: 'Little Blue Truck', 220: 'Little Fires Everywhere', 221: 'Looking for Alaska', 222: 'Love Wins: A Book About Heaven, Hell, and the Fate of Every Person Who Ever Lived', 223: 'Love You Forever', 224: 'Love You Forever', 225: 'Magnolia Table: A Collection of Recipes for Gathering', 226: 'Make It Ahead: A Barefoot Contessa Cookbook', 227: 'Make Your Bed: Little Things That Can Change Your Life...And Maybe the World', 228: 'Mastering the Art of French Cooking, Vol. 2', 229: 'Milk and Honey', 230: 'Milk and Honey', 231: 'Milk and Honey', 232: 'Milk and Vine: Inspirational Quotes From Classic Vines', 233: 'Mindset: The New Psychology of Success', 234: 'Mindset: The New Psychology of Success', 235: 'Mindset: The New Psychology of Success', 236: 'Mockingjay (The Hunger Games)', 237: 'Mockingjay (The Hunger Games)', 238: 'Mockingjay (The Hunger Games)', 239: 'National Geographic Kids Why?: Over 1,111 Answers to Everything', 240: 'National Geographic Little Kids First Big Book of Why (National Geographic Little Kids First Big Books)', 241: 'New Moon (The Twilight Saga)', 242: 'Night (Night)', 243: 'No Easy Day: The Autobiography of a Navy Seal: The Firsthand Account of the Mission That Killed Osama Bin Laden', 244: 'Obama: An Intimate Portrait', 245: \"Oh, the Places You'll Go!\", 246: \"Oh, the Places You'll Go!\", 247: \"Oh, the Places You'll Go!\", 248: \"Oh, the Places You'll Go!\", 249: \"Oh, the Places You'll Go!\", 250: \"Oh, the Places You'll Go!\", 251: \"Oh, the Places You'll Go!\", 252: \"Oh, the Places You'll Go!\", 253: 'Old School (Diary of a Wimpy Kid #10)', 254: 'Olive Kitteridge', 255: 'One Thousand Gifts: A Dare to Live Fully Right Where You Are', 256: 'One Thousand Gifts: A Dare to Live Fully Right Where You Are', 257: 'Option B: Facing Adversity, Building Resilience, and Finding Joy', 258: 'Origin: A Novel (Robert Langdon)', 259: 'Orphan Train', 260: 'Outliers: The Story of Success', 261: 'Outliers: The Story of Success', 262: 'P is for Potty! (Sesame Street) (Lift-the-Flap)', 263: 'P is for Potty! (Sesame Street) (Lift-the-Flap)', 264: 'Percy Jackson and the Olympians Paperback Boxed Set (Books 1-3)', 265: \"Player's Handbook (Dungeons & Dragons)\", 266: \"Player's Handbook (Dungeons & Dragons)\", 267: \"Player's Handbook (Dungeons & Dragons)\", 268: 'Pokémon Deluxe Essential Handbook: The Need-to-Know Stats and Facts on Over 700 Pokémon', 269: \"Proof of Heaven: A Neurosurgeon's Journey into the Afterlife\", 270: \"Proof of Heaven: A Neurosurgeon's Journey into the Afterlife\", 271: 'Publication Manual of the American Psychological Association, 6th Edition', 272: 'Publication Manual of the American Psychological Association, 6th Edition', 273: 'Publication Manual of the American Psychological Association, 6th Edition', 274: 'Publication Manual of the American Psychological Association, 6th Edition', 275: 'Publication Manual of the American Psychological Association, 6th Edition', 276: 'Publication Manual of the American Psychological Association, 6th Edition', 277: 'Publication Manual of the American Psychological Association, 6th Edition', 278: 'Publication Manual of the American Psychological Association, 6th Edition', 279: 'Publication Manual of the American Psychological Association, 6th Edition', 280: 'Publication Manual of the American Psychological Association, 6th Edition', 281: 'Puppy Birthday to You! (Paw Patrol) (Little Golden Book)', 282: \"Quiet: The Power of Introverts in a World That Can't Stop Talking\", 283: \"Quiet: The Power of Introverts in a World That Can't Stop Talking\", 284: 'Radical: Taking Back Your Faith from the American Dream', 285: 'Radical: Taking Back Your Faith from the American Dream', 286: 'Ready Player One: A Novel', 287: 'Ready Player One: A Novel', 288: 'Rush Revere and the Brave Pilgrims: Time-Travel Adventures with Exceptional Americans (1)', 289: 'Rush Revere and the First Patriots: Time-Travel Adventures With Exceptional Americans (2)', 290: 'Salt, Fat, Acid, Heat: Mastering the Elements of Good Cooking', 291: 'Salt, Fat, Acid, Heat: Mastering the Elements of Good Cooking', 292: \"Sarah's Key\", 293: 'School Zone - Big Preschool Workbook - Ages 4 and Up, Colors, Shapes, Numbers 1-10, Alphabet, Pre-Writing, Pre-Reading…', 294: 'School Zone - Big Preschool Workbook - Ages 4 and Up, Colors, Shapes, Numbers 1-10, Alphabet, Pre-Writing, Pre-Reading…', 295: 'Secret Garden: An Inky Treasure Hunt and Coloring Book (For Adults, mindfulness coloring)', 296: 'Sh*t My Dad Says', 297: 'Ship of Fools: How a Selfish Ruling Class Is Bringing America to the Brink of Revolution', 298: 'Shred: The Revolutionary Diet: 6 Weeks 4 Inches 2 Sizes', 299: 'Sookie Stackhouse', 300: 'Soul Healing Miracles: Ancient and New Sacred Wisdom, Knowledge, and Practical Techniques for Healing the Spiritual…', 301: 'Steve Jobs', 302: 'Steve Jobs', 303: 'Strange Planet (Strange Planet Series)', 304: 'StrengthsFinder 2.0', 305: 'StrengthsFinder 2.0', 306: 'StrengthsFinder 2.0', 307: 'StrengthsFinder 2.0', 308: 'StrengthsFinder 2.0', 309: 'StrengthsFinder 2.0', 310: 'StrengthsFinder 2.0', 311: 'StrengthsFinder 2.0', 312: 'StrengthsFinder 2.0', 313: 'Super Freakonomics: Global Cooling, Patriotic Prostitutes, and Why Suicide Bombers Should Buy Life Insurance', 314: 'Switch: How to Change Things When Change Is Hard', 315: 'Sycamore Row (Jake Brigance)', 316: 'Teach Like a Champion: 49 Techniques that Put Students on the Path to College', 317: 'Teach Like a Champion: 49 Techniques that Put Students on the Path to College', 318: \"The 17 Day Diet: A Doctor's Plan Designed for Rapid Results\", 319: 'The 4 Hour Body: An Uncommon Guide to Rapid Fat Loss, Incredible Sex and Becoming Superhuman', 320: 'The 5 Love Languages: The Secret to Love That Lasts', 321: 'The 5 Love Languages: The Secret to Love That Lasts', 322: 'The 5 Love Languages: The Secret to Love That Lasts', 323: 'The 5 Love Languages: The Secret to Love That Lasts', 324: 'The 5 Love Languages: The Secret to Love That Lasts', 325: 'The 5 Love Languages: The Secret to Love that Lasts', 326: 'The 5 Love Languages: The Secret to Love that Lasts', 327: 'The 5 Love Languages: The Secret to Love that Lasts', 328: 'The 5 Love Languages: The Secret to Love that Lasts', 329: 'The 5 Love Languages: The Secret to Love that Lasts', 330: 'The 5000 Year Leap', 331: 'The 7 Habits of Highly Effective People: Powerful Lessons in Personal Change', 332: 'The 7 Habits of Highly Effective People: Powerful Lessons in Personal Change', 333: 'The 7 Habits of Highly Effective People: Powerful Lessons in Personal Change', 334: 'The 7 Habits of Highly Effective People: Powerful Lessons in Personal Change', 335: 'The 7 Habits of Highly Effective People: Powerful Lessons in Personal Change', 336: 'The 7 Habits of Highly Effective People: Powerful Lessons in Personal Change', 337: 'The 7 Habits of Highly Effective People: Powerful Lessons in Personal Change', 338: 'The Alchemist', 339: 'The Amateur', 340: 'The Art of Racing in the Rain: A Novel', 341: 'The Art of Racing in the Rain: A Novel', 342: 'The Big Short: Inside the Doomsday Machine', 343: 'The Blood of Olympus (The Heroes of Olympus (5))', 344: 'The Blood Sugar Solution: The UltraHealthy Program for Losing Weight, Preventing Disease, and Feeling Great Now!', 345: 'The Body Keeps the Score: Brain, Mind, and Body in the Healing of Trauma', 346: 'The Book of Basketball: The NBA According to The Sports Guy', 347: 'The Book Thief', 348: 'The Book Thief', 349: 'The Book with No Pictures', 350: 'The Book with No Pictures', 351: 'The Boys in the Boat: Nine Americans and Their Epic Quest for Gold at the 1936 Berlin Olympics', 352: 'The Boys in the Boat: Nine Americans and Their Epic Quest for Gold at the 1936 Berlin Olympics', 353: 'The Casual Vacancy', 354: 'The China Study: The Most Comprehensive Study of Nutrition Ever Conducted And the Startling Implications for Diet…', 355: 'The Complete Ketogenic Diet for Beginners: Your Essential Guide to Living the Keto Lifestyle', 356: 'The Complete Ketogenic Diet for Beginners: Your Essential Guide to Living the Keto Lifestyle', 357: 'The Confession: A Novel', 358: 'The Constitution of the United States', 359: \"The Daily Show with Jon Stewart Presents Earth (The Book): A Visitor's Guide to the Human Race\", 360: 'The Day the Crayons Quit', 361: 'The Day the Crayons Quit', 362: 'The Day the Crayons Quit', 363: 'The Dukan Diet: 2 Steps to Lose the Weight, 2 Steps to Keep It Off Forever', 364: 'The Elegance of the Hedgehog', 365: 'The Fault in Our Stars', 366: 'The Fault in Our Stars', 367: 'The Fault in Our Stars', 368: 'The Fault in Our Stars', 369: 'The Five Dysfunctions of a Team: A Leadership Fable', 370: 'The Five Dysfunctions of a Team: A Leadership Fable', 371: 'The Five Dysfunctions of a Team: A Leadership Fable', 372: 'The Five Dysfunctions of a Team: A Leadership Fable', 373: 'The Five Dysfunctions of a Team: A Leadership Fable', 374: 'The Five Love Languages: How to Express Heartfelt Commitment to Your Mate', 375: 'The Four Agreements: A Practical Guide to Personal Freedom (A Toltec Wisdom Book)', 376: 'The Four Agreements: A Practical Guide to Personal Freedom (A Toltec Wisdom Book)', 377: 'The Four Agreements: A Practical Guide to Personal Freedom (A Toltec Wisdom Book)', 378: 'The Four Agreements: A Practical Guide to Personal Freedom (A Toltec Wisdom Book)', 379: 'The Four Agreements: A Practical Guide to Personal Freedom (A Toltec Wisdom Book)', 380: 'The Four Agreements: A Practical Guide to Personal Freedom (A Toltec Wisdom Book)', 381: 'The Getaway', 382: 'The Girl on the Train', 383: 'The Girl on the Train', 384: \"The Girl Who Kicked the Hornet's Nest (Millennium Trilogy)\", 385: \"The Girl Who Kicked the Hornet's Nest (Millennium Trilogy)\", 386: 'The Girl Who Played with Fire (Millennium Series)', 387: 'The Girl Who Played with Fire (Millennium)', 388: 'The Girl with the Dragon Tattoo (Millennium Series)', 389: 'The Girl with the Dragon Tattoo (Millennium Series)', 390: 'The Going-To-Bed Book', 391: 'The Going-To-Bed Book', 392: 'The Goldfinch: A Novel (Pulitzer Prize for Fiction)', 393: 'The Goldfinch: A Novel (Pulitzer Prize for Fiction)', 394: 'The Great Gatsby', 395: 'The Great Gatsby', 396: 'The Great Gatsby', 397: 'The Guardians: A Novel', 398: 'The Guernsey Literary and Potato Peel Pie Society', 399: \"The Handmaid's Tale\", 400: \"The Harbinger: The Ancient Mystery that Holds the Secret of America's Future\", 401: 'The Hate U Give', 402: 'The Help', 403: 'The Help', 404: 'The Help', 405: 'The Help', 406: 'The House of Hades (Heroes of Olympus, Book 4)', 407: 'The Hunger Games', 408: 'The Hunger Games (Book 1)', 409: 'The Hunger Games (Book 1)', 410: 'The Hunger Games Trilogy Boxed Set (1)', 411: 'The Hunger Games Trilogy Boxed Set (1)', 412: 'The Immortal Life of Henrietta Lacks', 413: 'The Immortal Life of Henrietta Lacks', 414: 'The Immortal Life of Henrietta Lacks', 415: 'The Instant Pot Electric Pressure Cooker Cookbook: Easy Recipes for Fast & Healthy Meals', 416: 'The Instant Pot Electric Pressure Cooker Cookbook: Easy Recipes for Fast & Healthy Meals', 417: 'The Last Lecture', 418: 'The Last Olympian (Percy Jackson and the Olympians, Book 5)', 419: 'The Last Olympian (Percy Jackson and the Olympians, Book 5)', 420: 'The Legend of Zelda: Hyrule Historia', 421: 'The Lego Ideas Book: Unlock Your Imagination', 422: 'The Lego Ideas Book: Unlock Your Imagination', 423: 'The Life-Changing Magic of Tidying Up: The Japanese Art of Decluttering and Organizing', 424: 'The Life-Changing Magic of Tidying Up: The Japanese Art of Decluttering and Organizing', 425: 'The Life-Changing Magic of Tidying Up: The Japanese Art of Decluttering and Organizing', 426: 'The Life-Changing Magic of Tidying Up: The Japanese Art of Decluttering and Organizing', 427: 'The Litigators', 428: 'The Lost Hero (Heroes of Olympus, Book 1)', 429: 'The Lost Symbol', 430: 'The Love Dare', 431: 'The Magnolia Story', 432: 'The Mark of Athena (Heroes of Olympus, Book 3)', 433: 'The Martian', 434: 'The Maze Runner (Book 1)', 435: 'The Meltdown (Diary of a Wimpy Kid Book 13)', 436: 'The Mueller Report', 437: 'The Nightingale: A Novel', 438: 'The Nightingale: A Novel', 439: 'The Official SAT Study Guide', 440: 'The Official SAT Study Guide', 441: 'The Official SAT Study Guide', 442: 'The Official SAT Study Guide', 443: 'The Official SAT Study Guide', 444: 'The Official SAT Study Guide, 2016 Edition (Official Study Guide for the New Sat)', 445: 'The Paris Wife: A Novel', 446: 'The Pioneer Woman Cooks: A Year of Holidays: 140 Step-by-Step Recipes for Simple, Scrumptious Celebrations', 447: 'The Pioneer Woman Cooks: Dinnertime - Comfort Classics, Freezer Food, 16-minute Meals, and Other Delicious Ways to Solve…', 448: 'The Pioneer Woman Cooks: Food from My Frontier', 449: 'The Plant Paradox Cookbook: 100 Delicious Recipes to Help You Lose Weight, Heal Your Gut, and Live Lectin-Free', 450: 'The Plant Paradox: The Hidden Dangers in \"Healthy\" Foods That Cause Disease and Weight Gain', 451: 'The Pout-Pout Fish', 452: 'The Pout-Pout Fish', 453: 'The Power of Habit: Why We Do What We Do in Life and Business', 454: 'The President Is Missing: A Novel', 455: 'The Racketeer', 456: 'The Red Pyramid (The Kane Chronicles, Book 1)', 457: 'The Road to Serfdom: Text and Documents--The Definitive Edition (The Collected Works of F. A. Hayek, Volume 2)', 458: \"The Serpent's Shadow (The Kane Chronicles, Book 3)\", 459: 'The Shack: Where Tragedy Confronts Eternity', 460: 'The Shack: Where Tragedy Confronts Eternity', 461: 'The Short Second Life of Bree Tanner: An Eclipse Novella (The Twilight Saga)', 462: 'The Silent Patient', 463: 'The Son of Neptune (Heroes of Olympus, Book 2)', 464: 'The Subtle Art of Not Giving a F*ck: A Counterintuitive Approach to Living a Good Life', 465: 'The Subtle Art of Not Giving a F*ck: A Counterintuitive Approach to Living a Good Life', 466: 'The Subtle Art of Not Giving a F*ck: A Counterintuitive Approach to Living a Good Life', 467: 'The Sun and Her Flowers', 468: 'The Third Wheel (Diary of a Wimpy Kid, Book 7)', 469: 'The Throne of Fire (The Kane Chronicles, Book 2)', 470: \"The Time Traveler's Wife\", 471: 'The Tipping Point: How Little Things Can Make a Big Difference', 472: 'The Total Money Makeover: Classic Edition: A Proven Plan for Financial Fitness', 473: 'The Twilight Saga Collection', 474: 'The Ugly Truth (Diary of a Wimpy Kid, Book 5)', 475: 'The Unofficial Harry Potter Cookbook: From Cauldron Cakes to Knickerbocker Glory--More Than 150 Magical Recipes for…', 476: 'The Very Hungry Caterpillar', 477: 'The Very Hungry Caterpillar', 478: 'The Very Hungry Caterpillar', 479: 'The Very Hungry Caterpillar', 480: 'The Very Hungry Caterpillar', 481: 'The Very Hungry Caterpillar', 482: 'The Very Hungry Caterpillar', 483: 'The Whole30: The 30-Day Guide to Total Health and Food Freedom', 484: 'The Whole30: The 30-Day Guide to Total Health and Food Freedom', 485: 'The Whole30: The 30-Day Guide to Total Health and Food Freedom', 486: 'The Wonderful Things You Will Be', 487: 'The Wonderful Things You Will Be', 488: 'The Wonderful Things You Will Be', 489: 'The Wonderful Things You Will Be', 490: 'The Wonky Donkey', 491: 'The Wonky Donkey', 492: 'The Wright Brothers', 493: 'Things That Matter: Three Decades of Passions, Pastimes and Politics [Deckled Edge]', 494: 'Thinking, Fast and Slow', 495: 'Thinking, Fast and Slow', 496: 'Thirteen Reasons Why', 497: 'Thomas Jefferson: The Art of Power', 498: \"Three Cups of Tea: One Man's Mission to Promote Peace - One School at a Time\", 499: \"Three Cups of Tea: One Man's Mission to Promote Peace - One School at a Time\", 500: 'Thug Kitchen: The Official Cookbook: Eat Like You Give a F*ck (Thug Kitchen Cookbooks)', 501: 'Thug Kitchen: The Official Cookbook: Eat Like You Give a F*ck (Thug Kitchen Cookbooks)', 502: 'Thug Kitchen: The Official Cookbook: Eat Like You Give a F*ck (Thug Kitchen Cookbooks)', 503: 'Thug Kitchen: The Official Cookbook: Eat Like You Give a F*ck (Thug Kitchen Cookbooks)', 504: 'Tina Fey: Bossypants', 505: 'To Kill a Mockingbird', 506: 'To Kill a Mockingbird', 507: 'To Kill a Mockingbird', 508: 'To Kill a Mockingbird', 509: 'To Kill a Mockingbird', 510: 'Tools of Titans: The Tactics, Routines, and Habits of Billionaires, Icons, and World-Class Performers', 511: 'Towers of Midnight (Wheel of Time, Book Thirteen)', 512: 'True Compass: A Memoir', 513: 'Twilight (The Twilight Saga, Book 1)', 514: 'Ultimate Sticker Book: Frozen: More Than 60 Reusable Full-Color Stickers', 515: 'Unbroken: A World War II Story of Survival, Resilience, and Redemption', 516: 'Unbroken: A World War II Story of Survival, Resilience, and Redemption', 517: 'Unbroken: A World War II Story of Survival, Resilience, and Redemption', 518: 'Unbroken: A World War II Story of Survival, Resilience, and Redemption', 519: 'Unbroken: A World War II Story of Survival, Resilience, and Redemption', 520: 'Under the Dome: A Novel', 521: 'Unfreedom of the Press', 522: 'Unicorn Coloring Book: For Kids Ages 4-8 (US Edition) (Silly Bear Coloring Books)', 523: 'Uninvited: Living Loved When You Feel Less Than, Left Out, and Lonely', 524: 'Watchmen', 525: 'Water for Elephants: A Novel', 526: 'What Happened', 527: 'What If?: Serious Scientific Answers to Absurd Hypothetical Questions', 528: 'What Pet Should I Get? (Classic Seuss)', 529: 'What Should Danny Do? (The Power to Choose Series)', 530: \"What to Expect When You're Expecting\", 531: 'Wheat Belly: Lose the Wheat, Lose the Weight, and Find Your Path Back to Health', 532: 'Wheat Belly: Lose the Wheat, Lose the Weight, and Find Your Path Back to Health', 533: 'When Breath Becomes Air', 534: 'Where the Crawdads Sing', 535: 'Where the Wild Things Are', 536: \"Whose Boat Is This Boat?: Comments That Don't Help in the Aftermath of a Hurricane\", 537: 'Wild: From Lost to Found on the Pacific Crest Trail', 538: 'Winter of the World: Book Two of the Century Trilogy', 539: 'Women Food and God: An Unexpected Path to Almost Everything', 540: 'Wonder', 541: 'Wonder', 542: 'Wonder', 543: 'Wonder', 544: 'Wonder', 545: 'Wrecking Ball (Diary of a Wimpy Kid Book 14)', 546: 'You Are a Badass: How to Stop Doubting Your Greatness and Start Living an Awesome Life', 547: 'You Are a Badass: How to Stop Doubting Your Greatness and Start Living an Awesome Life', 548: 'You Are a Badass: How to Stop Doubting Your Greatness and Start Living an Awesome Life', 549: 'You Are a Badass: How to Stop Doubting Your Greatness and Start Living an Awesome Life'}, 'Author': {0: 'JJ Smith', 1: 'Stephen King', 2: 'Jordan B. Peterson', 3: 'George Orwell', 4: 'National Geographic Kids', 5: 'George R. R. Martin', 6: 'George R. R. Martin', 7: 'Amor Towles', 8: 'James Comey', 9: 'Fredrik Backman', 10: 'Fredrik Backman', 11: 'Larry Schweikart', 12: 'Jaycee Dugard', 13: \"Madeleine L'Engle\", 14: 'Steve Harvey', 15: 'Adult Coloring Book Designs', 16: 'Blue Star Coloring', 17: 'Blue Star Coloring', 18: 'Coloring Books for Adults', 19: 'Ron Chernow', 20: 'Anthony Doerr', 21: 'Anthony Doerr', 22: 'Veronica Roth', 23: 'Chris Kyle', 24: 'Khaled Hosseini', 25: 'Glenn Beck', 26: 'Neil deGrasse Tyson', 27: 'Mark Twain', 28: 'DK', 29: 'Angie Grace', 30: 'Ina Garten', 31: 'Ina Garten', 32: 'Michelle Obama', 33: 'Michelle Obama', 34: 'Atul Gawande', 35: 'Ta-Nehisi Coates', 36: 'Ta-Nehisi Coates', 37: 'Bruce Springsteen', 38: 'Stephenie Meyer', 39: 'Glenn Beck', 40: 'Bill Martin Jr.', 41: 'Bill Martin Jr.', 42: 'Jeff Kinney', 43: \"Sasha O'Hara\", 44: 'David Goggins', 45: 'Thomas Piketty', 46: 'Suzanne Collins', 47: 'Suzanne Collins', 48: 'Suzanne Collins', 49: 'Chrissy Teigen', 50: 'Francis Chan', 51: 'Francis Chan', 52: 'Francis Chan', 53: 'Kevin Kwan', 54: 'Marjorie Sarnat', 55: 'Marjorie Sarnat', 56: 'Abraham Verghese', 57: 'Abraham Verghese', 58: 'Brené Brown', 59: 'Malcolm Gladwell', 60: 'Charlaine Harris', 61: 'Charlaine Harris', 62: 'Charlaine Harris', 63: 'Rod Campbell', 64: 'Rod Campbell', 65: 'Rod Campbell', 66: 'Rod Campbell', 67: 'George W. Bush', 68: 'Tony Hsieh', 69: 'American Psychiatric Association', 70: 'American Psychiatric Association', 71: 'Jeff Kinney', 72: 'Jeff Kinney', 73: 'Jeff Kinney', 74: 'M Prefontaine', 75: 'Veronica Roth', 76: 'Veronica Roth', 77: 'Veronica Roth', 78: 'Zhi Gang Sha', 79: 'Stephen King', 80: 'Jeff Kinney', 81: 'Dav Pilkey', 82: 'Dav Pilkey', 83: 'Dav Pilkey', 84: 'Dav Pilkey', 85: 'Dav Pilkey', 86: 'Dav Pilkey', 87: 'Dav Pilkey', 88: 'Jeff Kinney', 89: 'Marty Noble', 90: 'Daniel H. Pink', 91: 'David Zinczenko', 92: 'David Zinczenko', 93: 'Joel Fuhrman MD', 94: 'Joel Fuhrman MD', 95: 'Stephenie Meyer', 96: 'Stephenie Meyer', 97: 'Tara Westover', 98: 'Tara Westover', 99: 'Johanna Basford', 100: 'Ray Bradbury', 101: 'Ray Bradbury', 102: 'J.K. Rowling', 103: 'Bob Woodward', 104: 'E L James', 105: 'E L James', 106: 'E L James', 107: 'E L James', 108: 'E L James', 109: 'Michael Wolff', 110: 'Roger Priddy', 111: 'Roger Priddy', 112: 'Roger Priddy', 113: 'Roger Priddy', 114: 'Roger Priddy', 115: 'Michael Pollan', 116: 'RH Disney', 117: 'John Heilemann', 118: 'George R.R. Martin', 119: 'George R.R. Martin', 120: 'George R.R. Martin', 121: 'Peter A. Lillback', 122: 'Brian Kilmeade', 123: 'Giles Andreae', 124: 'Giles Andreae', 125: 'Giles Andreae', 126: 'Giles Andreae', 127: 'Giles Andreae', 128: 'Rachel Hollis', 129: 'Rachel Hollis', 130: 'Rachel Hollis', 131: 'Glenn Beck', 132: 'Harper Lee', 133: 'Adam Mansbach', 134: 'Sarah Palin', 135: 'Gillian Flynn', 136: 'Gillian Flynn', 137: 'Gillian Flynn', 138: 'Pretty Simple Press', 139: 'Jim Collins', 140: 'Jim Collins', 141: 'Jim Collins', 142: 'Jim Collins', 143: 'Margaret Wise Brown', 144: 'Margaret Wise Brown', 145: 'Margaret Wise Brown', 146: 'Sherri Duskey Rinker', 147: 'Sherri Duskey Rinker', 148: 'David Perlmutter MD', 149: 'E L James', 150: 'Raina Telgemeier', 151: 'Lin-Manuel Miranda', 152: 'Phil Robertson', 153: 'J.K. Rowling', 154: 'J.K. Rowling', 155: 'J. K. Rowling', 156: 'J.K. Rowling', 157: 'J.K. Rowling', 158: 'Scholastic', 159: 'J. K. Rowling', 160: 'Mitch Albom', 161: 'Todd Burpo', 162: 'Todd Burpo', 163: 'J. D. Vance', 164: 'J. D. Vance', 165: 'Joanna Gaines', 166: 'Dale Carnegie', 167: 'Dale Carnegie', 168: 'Dale Carnegie', 169: 'Dale Carnegie', 170: 'Dale Carnegie', 171: 'Howard Stern', 172: 'Brandon Stanton', 173: 'Brandon Stanton', 174: 'Brandon Stanton', 175: 'Allie Brosh', 176: 'Hopscotch Girls', 177: 'James Patterson', 178: 'Ann Whitford Paul', 179: 'Ann Whitford Paul', 180: 'Gayle Forman', 181: 'Eric Larson', 182: 'Dan Brown', 183: 'Christopher Paolini', 184: 'Jennifer Smith', 185: 'Jennifer Smith', 186: 'Lysa TerKeurst', 187: 'Sarah Young', 188: 'Sarah Young', 189: 'Sarah Young', 190: 'Sarah Young', 191: 'Sarah Young', 192: 'Sarah Young', 193: 'RH Disney', 194: 'Stephen King', 195: 'David Grann', 196: \"Bill O'Reilly\", 197: \"Bill O'Reilly\", 198: \"Bill O'Reilly\", 199: \"Bill O'Reilly\", 200: \"Bill O'Reilly\", 201: \"Bill O'Reilly\", 202: \"Bill O'Reilly\", 203: 'Anthony Bourdain', 204: 'Rob Elliott', 205: 'Rob Elliott', 206: 'Rob Elliott', 207: 'Jill Twiss', 208: 'Rob Elliott', 209: 'Rob Elliott', 210: 'Rob Elliott', 211: 'Rob Elliott', 212: 'Rob Elliott', 213: 'Sheryl Sandberg', 214: 'Walter Isaacson', 215: 'Paper Peony Press', 216: 'Mark R. Levin', 217: 'Keith Richards', 218: 'Chris Cleave', 219: 'Alice Schertle', 220: 'Celeste Ng', 221: 'John Green', 222: 'Rob Bell', 223: 'Robert Munsch', 224: 'Robert Munsch', 225: 'Joanna Gaines', 226: 'Ina Garten', 227: 'Admiral William H. McRaven', 228: 'Julia Child', 229: 'Rupi Kaur', 230: 'Rupi Kaur', 231: 'Rupi Kaur', 232: 'Adam Gasiewski', 233: 'Carol S. Dweck', 234: 'Carol S. Dweck', 235: 'Carol S. Dweck', 236: 'Suzanne Collins', 237: 'Suzanne Collins', 238: 'Suzanne Collins', 239: 'Crispin Boyer', 240: 'Amy Shields', 241: 'Stephenie Meyer', 242: 'Elie Wiesel', 243: 'Mark Owen', 244: 'Pete Souza', 245: 'Dr. Seuss', 246: 'Dr. Seuss', 247: 'Dr. Seuss', 248: 'Dr. Seuss', 249: 'Dr. Seuss', 250: 'Dr. Seuss', 251: 'Dr. Seuss', 252: 'Dr. Seuss', 253: 'Jeff Kinney', 254: 'Elizabeth Strout', 255: 'Ann Voskamp', 256: 'Ann Voskamp', 257: 'Sheryl Sandberg', 258: 'Dan Brown', 259: 'Christina Baker Kline', 260: 'Malcolm Gladwell', 261: 'Malcolm Gladwell', 262: 'Naomi Kleinberg', 263: 'Naomi Kleinberg', 264: 'Rick Riordan', 265: 'Wizards RPG Team', 266: 'Wizards RPG Team', 267: 'Wizards RPG Team', 268: 'Scholastic', 269: 'Eben Alexander', 270: 'Eben Alexander', 271: 'American Psychological Association', 272: 'American Psychological Association', 273: 'American Psychological Association', 274: 'American Psychological Association', 275: 'American Psychological Association', 276: 'American Psychological Association', 277: 'American Psychological Association', 278: 'American Psychological Association', 279: 'American Psychological Association', 280: 'American Psychological Association', 281: 'Golden Books', 282: 'Susan Cain', 283: 'Susan Cain', 284: 'David Platt', 285: 'David Platt', 286: 'Ernest Cline', 287: 'Ernest Cline', 288: 'Rush Limbaugh', 289: 'Rush Limbaugh', 290: 'Samin Nosrat', 291: 'Samin Nosrat', 292: 'Tatiana de Rosnay', 293: 'School Zone', 294: 'School Zone', 295: 'Johanna Basford', 296: 'Justin Halpern', 297: 'Tucker Carlson', 298: 'Ian K. Smith M.D.', 299: 'Charlaine Harris', 300: 'Zhi Gang Sha', 301: 'Walter Isaacson', 302: 'Walter Isaacson', 303: 'Nathan W. Pyle', 304: 'Gallup', 305: 'Gallup', 306: 'Gallup', 307: 'Gallup', 308: 'Gallup', 309: 'Gallup', 310: 'Gallup', 311: 'Gallup', 312: 'Gallup', 313: 'Steven D. Levitt', 314: 'Chip Heath', 315: 'John Grisham', 316: 'Doug Lemov', 317: 'Doug Lemov', 318: 'Mike Moreno', 319: 'Timothy Ferriss', 320: 'Gary Chapman', 321: 'Gary Chapman', 322: 'Gary Chapman', 323: 'Gary Chapman', 324: 'Gary Chapman', 325: 'Gary Chapman', 326: 'Gary Chapman', 327: 'Gary Chapman', 328: 'Gary Chapman', 329: 'Gary Chapman', 330: 'W. Cleon Skousen', 331: 'Stephen R. Covey', 332: 'Stephen R. Covey', 333: 'Stephen R. Covey', 334: 'Stephen R. Covey', 335: 'Stephen R. Covey', 336: 'Stephen R. Covey', 337: 'Stephen R. Covey', 338: 'Paulo Coelho', 339: 'Edward Klein', 340: 'Garth Stein', 341: 'Garth Stein', 342: 'Michael Lewis', 343: 'Rick Riordan', 344: 'Mark Hyman M.D.', 345: 'Bessel van der Kolk M.D.', 346: 'Bill Simmons', 347: 'Markus Zusak', 348: 'Markus Zusak', 349: 'B. J. Novak', 350: 'B. J. Novak', 351: 'Daniel James Brown', 352: 'Daniel James Brown', 353: 'J.K. Rowling', 354: 'Thomas Campbell', 355: 'Amy Ramos', 356: 'Amy Ramos', 357: 'John Grisham', 358: 'Delegates of the Constitutional\\x85', 359: 'Jon Stewart', 360: 'Drew Daywalt', 361: 'Drew Daywalt', 362: 'Drew Daywalt', 363: 'Pierre Dukan', 364: 'Muriel Barbery', 365: 'John Green', 366: 'John Green', 367: 'John Green', 368: 'John Green', 369: 'Patrick Lencioni', 370: 'Patrick Lencioni', 371: 'Patrick Lencioni', 372: 'Patrick Lencioni', 373: 'Patrick Lencioni', 374: 'Gary Chapman', 375: 'Don Miguel Ruiz', 376: 'Don Miguel Ruiz', 377: 'Don Miguel Ruiz', 378: 'Don Miguel Ruiz', 379: 'Don Miguel Ruiz', 380: 'Don Miguel Ruiz', 381: 'Jeff Kinney', 382: 'Paula Hawkins', 383: 'Paula Hawkins', 384: 'Stieg Larsson', 385: 'Stieg Larsson', 386: 'Stieg Larsson', 387: 'Stieg Larsson', 388: 'Stieg Larsson', 389: 'Stieg Larsson', 390: 'Sandra Boynton', 391: 'Sandra Boynton', 392: 'Donna Tartt', 393: 'Donna Tartt', 394: 'F. Scott Fitzgerald', 395: 'F. Scott Fitzgerald', 396: 'F. Scott Fitzgerald', 397: 'John Grisham', 398: 'Mary Ann Shaffer', 399: 'Margaret Atwood', 400: 'Jonathan Cahn', 401: 'Angie Thomas', 402: 'Kathryn Stockett', 403: 'Kathryn Stockett', 404: 'Kathryn Stockett', 405: 'Kathryn Stockett', 406: 'Rick Riordan', 407: 'Suzanne Collins', 408: 'Suzanne Collins', 409: 'Suzanne Collins', 410: 'Suzanne Collins', 411: 'Suzanne Collins', 412: 'Rebecca Skloot', 413: 'Rebecca Skloot', 414: 'Rebecca Skloot', 415: 'Laurel Randolph', 416: 'Laurel Randolph', 417: 'Randy Pausch', 418: 'Rick Riordan', 419: 'Rick Riordan', 420: 'Patrick Thorpe', 421: 'Daniel Lipkowitz', 422: 'Daniel Lipkowitz', 423: 'Marie Kondō', 424: 'Marie Kondō', 425: 'Marie Kondō', 426: 'Marie Kondō', 427: 'John Grisham', 428: 'Rick Riordan', 429: 'Dan Brown', 430: 'Stephen Kendrick', 431: 'Chip Gaines', 432: 'Rick Riordan', 433: 'Andy Weir', 434: 'James Dashner', 435: 'Jeff Kinney', 436: 'The Washington Post', 437: 'Kristin Hannah', 438: 'Kristin Hannah', 439: 'The College Board', 440: 'The College Board', 441: 'The College Board', 442: 'The College Board', 443: 'The College Board', 444: 'The College Board', 445: 'Paula McLain', 446: 'Ree Drummond', 447: 'Ree Drummond', 448: 'Ree Drummond', 449: 'Dr. Steven R Gundry MD', 450: 'Dr. Steven R Gundry MD', 451: 'Deborah Diesen', 452: 'Deborah Diesen', 453: 'Charles Duhigg', 454: 'James Patterson', 455: 'John Grisham', 456: 'Rick Riordan', 457: 'F. A. Hayek', 458: 'Rick Riordan', 459: 'William P. Young', 460: 'William P. Young', 461: 'Stephenie Meyer', 462: 'Alex Michaelides', 463: 'Rick Riordan', 464: 'Mark Manson', 465: 'Mark Manson', 466: 'Mark Manson', 467: 'Rupi Kaur', 468: 'Jeff Kinney', 469: 'Rick Riordan', 470: 'Audrey Niffenegger', 471: 'Malcolm Gladwell', 472: 'Dave Ramsey', 473: 'Stephenie Meyer', 474: 'Jeff Kinney', 475: 'Dinah Bucholz', 476: 'Eric Carle', 477: 'Eric Carle', 478: 'Eric Carle', 479: 'Eric Carle', 480: 'Eric Carle', 481: 'Eric Carle', 482: 'Eric Carle', 483: 'Melissa Hartwig Urban', 484: 'Melissa Hartwig Urban', 485: 'Melissa Hartwig Urban', 486: 'Emily Winfield Martin', 487: 'Emily Winfield Martin', 488: 'Emily Winfield Martin', 489: 'Emily Winfield Martin', 490: 'Craig Smith', 491: 'Craig Smith', 492: 'David McCullough', 493: 'Charles Krauthammer', 494: 'Daniel Kahneman', 495: 'Daniel Kahneman', 496: 'Jay Asher', 497: 'Jon Meacham', 498: 'Greg Mortenson', 499: 'Greg Mortenson', 500: 'Thug Kitchen', 501: 'Thug Kitchen', 502: 'Thug Kitchen', 503: 'Thug Kitchen', 504: 'Tina Fey', 505: 'Harper Lee', 506: 'Harper Lee', 507: 'Harper Lee', 508: 'Harper Lee', 509: 'Harper Lee', 510: 'Timothy Ferriss', 511: 'Robert Jordan', 512: 'Edward M. Kennedy', 513: 'Stephenie Meyer', 514: 'DK', 515: 'Laura Hillenbrand', 516: 'Laura Hillenbrand', 517: 'Laura Hillenbrand', 518: 'Laura Hillenbrand', 519: 'Laura Hillenbrand', 520: 'Stephen King', 521: 'Mark R. Levin', 522: 'Silly Bear', 523: 'Lysa TerKeurst', 524: 'Alan Moore', 525: 'Sara Gruen', 526: 'Hillary Rodham Clinton', 527: 'Randall Munroe', 528: 'Dr. Seuss', 529: 'Adir Levy', 530: 'Heidi Murkoff', 531: 'William Davis', 532: 'William Davis', 533: 'Paul Kalanithi', 534: 'Delia Owens', 535: 'Maurice Sendak', 536: 'The Staff of The Late Show with\\x85', 537: 'Cheryl Strayed', 538: 'Ken Follett', 539: 'Geneen Roth', 540: 'R. J. Palacio', 541: 'R. J. Palacio', 542: 'R. J. Palacio', 543: 'R. J. Palacio', 544: 'R. J. Palacio', 545: 'Jeff Kinney', 546: 'Jen Sincero', 547: 'Jen Sincero', 548: 'Jen Sincero', 549: 'Jen Sincero'}, 'User Rating': {0: 4.7, 1: 4.6, 2: 4.7, 3: 4.7, 4: 4.8, 5: 4.4, 6: 4.7, 7: 4.7, 8: 4.7, 9: 4.6, 10: 4.6, 11: 4.6, 12: 4.6, 13: 4.5, 14: 4.6, 15: 4.5, 16: 4.6, 17: 4.4, 18: 4.5, 19: 4.8, 20: 4.6, 21: 4.6, 22: 3.9, 23: 4.6, 24: 4.3, 25: 4.6, 26: 4.7, 27: 4.2, 28: 4.6, 29: 4.6, 30: 4.8, 31: 4.7, 32: 4.8, 33: 4.8, 34: 4.8, 35: 4.7, 36: 4.7, 37: 4.7, 38: 4.6, 39: 4.5, 40: 4.9, 41: 4.9, 42: 4.8, 43: 4.6, 44: 4.8, 45: 4.5, 46: 4.7, 47: 4.7, 48: 4.7, 49: 4.7, 50: 4.7, 51: 4.7, 52: 4.7, 53: 4.3, 54: 4.8, 55: 4.8, 56: 4.6, 57: 4.6, 58: 4.8, 59: 4.4, 60: 4.6, 61: 4.3, 62: 4.2, 63: 4.8, 64: 4.8, 65: 4.8, 66: 4.8, 67: 4.6, 68: 4.6, 69: 4.5, 70: 4.5, 71: 4.8, 72: 4.8, 73: 4.8, 74: 4.6, 75: 4.6, 76: 4.6, 77: 4.5, 78: 4.6, 79: 4.7, 80: 4.8, 81: 4.9, 82: 4.9, 83: 4.9, 84: 4.9, 85: 4.9, 86: 4.9, 87: 4.9, 88: 4.8, 89: 4.6, 90: 4.5, 91: 4.5, 92: 4.3, 93: 4.5, 94: 4.5, 95: 4.7, 96: 4.7, 97: 4.7, 98: 4.7, 99: 4.7, 100: 4.6, 101: 4.6, 102: 4.7, 103: 4.4, 104: 4.4, 105: 4.5, 106: 3.8, 107: 3.8, 108: 4.5, 109: 4.2, 110: 4.7, 111: 4.7, 112: 4.7, 113: 4.7, 114: 4.7, 115: 4.4, 116: 4.7, 117: 4.4, 118: 4.6, 119: 4.6, 120: 4.6, 121: 4.5, 122: 4.6, 123: 4.8, 124: 4.8, 125: 4.8, 126: 4.8, 127: 4.8, 128: 4.6, 129: 4.6, 130: 4.6, 131: 4.6, 132: 3.6, 133: 4.8, 134: 4.6, 135: 4.0, 136: 4.0, 137: 4.0, 138: 4.6, 139: 4.5, 140: 4.5, 141: 4.5, 142: 4.5, 143: 4.8, 144: 4.8, 145: 4.8, 146: 4.9, 147: 4.9, 148: 4.6, 149: 4.4, 150: 4.8, 151: 4.9, 152: 4.8, 153: 4.9, 154: 4.0, 155: 4.9, 156: 4.9, 157: 4.9, 158: 4.7, 159: 4.8, 160: 4.8, 161: 4.7, 162: 4.7, 163: 4.4, 164: 4.4, 165: 4.8, 166: 4.7, 167: 4.7, 168: 4.7, 169: 4.7, 170: 4.7, 171: 4.3, 172: 4.8, 173: 4.8, 174: 4.9, 175: 4.7, 176: 4.8, 177: 4.6, 178: 4.8, 179: 4.8, 180: 4.3, 181: 4.4, 182: 4.1, 183: 4.6, 184: 4.4, 185: 4.4, 186: 4.8, 187: 4.9, 188: 4.9, 189: 4.9, 190: 4.9, 191: 4.9, 192: 4.9, 193: 4.6, 194: 4.5, 195: 4.6, 196: 4.5, 197: 4.6, 198: 4.7, 199: 4.7, 200: 4.6, 201: 4.6, 202: 4.8, 203: 4.8, 204: 4.5, 205: 4.5, 206: 4.5, 207: 4.9, 208: 4.6, 209: 4.6, 210: 4.6, 211: 4.6, 212: 4.6, 213: 4.5, 214: 4.5, 215: 4.4, 216: 4.8, 217: 4.5, 218: 4.1, 219: 4.9, 220: 4.5, 221: 4.5, 222: 4.2, 223: 4.8, 224: 4.8, 225: 4.8, 226: 4.5, 227: 4.7, 228: 4.8, 229: 4.7, 230: 4.7, 231: 4.7, 232: 4.4, 233: 4.6, 234: 4.6, 235: 4.6, 236: 4.5, 237: 4.5, 238: 4.5, 239: 4.8, 240: 4.8, 241: 4.6, 242: 4.7, 243: 4.6, 244: 4.9, 245: 4.9, 246: 4.9, 247: 4.9, 248: 4.9, 249: 4.9, 250: 4.9, 251: 4.9, 252: 4.9, 253: 4.8, 254: 4.2, 255: 4.6, 256: 4.6, 257: 4.5, 258: 4.3, 259: 4.6, 260: 4.6, 261: 4.6, 262: 4.7, 263: 4.7, 264: 4.8, 265: 4.8, 266: 4.8, 267: 4.8, 268: 4.7, 269: 4.3, 270: 4.3, 271: 4.5, 272: 4.5, 273: 4.5, 274: 4.5, 275: 4.5, 276: 4.5, 277: 4.5, 278: 4.5, 279: 4.5, 280: 4.5, 281: 4.8, 282: 4.6, 283: 4.6, 284: 4.7, 285: 4.7, 286: 4.6, 287: 4.6, 288: 4.9, 289: 4.9, 290: 4.8, 291: 4.8, 292: 4.6, 293: 4.8, 294: 4.8, 295: 4.7, 296: 4.7, 297: 4.8, 298: 4.1, 299: 4.7, 300: 4.6, 301: 4.6, 302: 4.6, 303: 4.9, 304: 4.0, 305: 4.0, 306: 4.0, 307: 4.0, 308: 4.0, 309: 4.0, 310: 4.0, 311: 4.0, 312: 4.0, 313: 4.5, 314: 4.6, 315: 4.5, 316: 4.4, 317: 4.4, 318: 4.3, 319: 4.3, 320: 4.7, 321: 4.7, 322: 4.7, 323: 4.7, 324: 4.7, 325: 4.8, 326: 4.8, 327: 4.8, 328: 4.8, 329: 4.8, 330: 4.8, 331: 4.6, 332: 4.6, 333: 4.6, 334: 4.6, 335: 4.7, 336: 4.7, 337: 4.7, 338: 4.7, 339: 4.6, 340: 4.7, 341: 4.7, 342: 4.7, 343: 4.8, 344: 4.2, 345: 4.8, 346: 4.7, 347: 4.6, 348: 4.6, 349: 4.8, 350: 4.8, 351: 4.8, 352: 4.8, 353: 3.3, 354: 4.7, 355: 4.3, 356: 4.3, 357: 4.3, 358: 4.8, 359: 4.4, 360: 4.8, 361: 4.8, 362: 4.8, 363: 4.1, 364: 4.0, 365: 4.7, 366: 4.7, 367: 4.7, 368: 4.7, 369: 4.6, 370: 4.6, 371: 4.6, 372: 4.6, 373: 4.6, 374: 4.6, 375: 4.7, 376: 4.7, 377: 4.7, 378: 4.7, 379: 4.7, 380: 4.7, 381: 4.8, 382: 4.1, 383: 4.1, 384: 4.7, 385: 4.7, 386: 4.7, 387: 4.7, 388: 4.4, 389: 4.4, 390: 4.8, 391: 4.8, 392: 3.9, 393: 3.9, 394: 4.4, 395: 4.4, 396: 4.4, 397: 4.5, 398: 4.7, 399: 4.3, 400: 4.6, 401: 4.8, 402: 4.8, 403: 4.8, 404: 4.8, 405: 4.8, 406: 4.8, 407: 4.7, 408: 4.7, 409: 4.7, 410: 4.8, 411: 4.8, 412: 4.7, 413: 4.7, 414: 4.7, 415: 4.3, 416: 4.3, 417: 4.7, 418: 4.8, 419: 4.8, 420: 4.9, 421: 4.4, 422: 4.4, 423: 4.5, 424: 4.5, 425: 4.5, 426: 4.5, 427: 4.4, 428: 4.8, 429: 4.2, 430: 4.8, 431: 4.9, 432: 4.8, 433: 4.7, 434: 4.5, 435: 4.8, 436: 4.6, 437: 4.8, 438: 4.8, 439: 4.4, 440: 4.4, 441: 4.4, 442: 4.4, 443: 4.4, 444: 4.3, 445: 4.3, 446: 4.8, 447: 4.8, 448: 4.8, 449: 4.5, 450: 4.4, 451: 4.8, 452: 4.8, 453: 4.6, 454: 4.3, 455: 4.3, 456: 4.6, 457: 4.6, 458: 4.8, 459: 4.6, 460: 4.6, 461: 4.6, 462: 4.5, 463: 4.8, 464: 4.6, 465: 4.6, 466: 4.6, 467: 4.7, 468: 4.7, 469: 4.7, 470: 4.4, 471: 4.4, 472: 4.7, 473: 4.7, 474: 4.8, 475: 4.7, 476: 4.9, 477: 4.9, 478: 4.9, 479: 4.9, 480: 4.9, 481: 4.9, 482: 4.9, 483: 4.6, 484: 4.6, 485: 4.6, 486: 4.9, 487: 4.9, 488: 4.9, 489: 4.9, 490: 4.8, 491: 4.8, 492: 4.7, 493: 4.7, 494: 4.6, 495: 4.6, 496: 4.5, 497: 4.5, 498: 4.3, 499: 4.3, 500: 4.6, 501: 4.6, 502: 4.6, 503: 4.6, 504: 4.3, 505: 4.8, 506: 4.8, 507: 4.8, 508: 4.8, 509: 4.8, 510: 4.6, 511: 4.8, 512: 4.5, 513: 4.7, 514: 4.5, 515: 4.8, 516: 4.8, 517: 4.8, 518: 4.8, 519: 4.8, 520: 4.3, 521: 4.9, 522: 4.8, 523: 4.7, 524: 4.8, 525: 4.5, 526: 4.6, 527: 4.7, 528: 4.7, 529: 4.8, 530: 4.4, 531: 4.4, 532: 4.4, 533: 4.8, 534: 4.8, 535: 4.8, 536: 4.6, 537: 4.4, 538: 4.5, 539: 4.2, 540: 4.8, 541: 4.8, 542: 4.8, 543: 4.8, 544: 4.8, 545: 4.9, 546: 4.7, 547: 4.7, 548: 4.7, 549: 4.7}, 'Reviews': {0: 17350, 1: 2052, 2: 18979, 3: 21424, 4: 7665, 5: 12643, 6: 19735, 7: 19699, 8: 5983, 9: 23848, 10: 23848, 11: 460, 12: 4149, 13: 5153, 14: 5013, 15: 2313, 16: 2925, 17: 2951, 18: 2426, 19: 9198, 20: 36348, 21: 36348, 22: 6310, 23: 15921, 24: 12159, 25: 798, 26: 9374, 27: 491, 28: 5360, 29: 1909, 30: 1296, 31: 615, 32: 61133, 33: 61133, 34: 11113, 35: 10070, 36: 10070, 37: 3729, 38: 9769, 39: 471, 40: 14344, 41: 14344, 42: 4505, 43: 10369, 44: 16244, 45: 2884, 46: 22614, 47: 22614, 48: 22614, 49: 4761, 50: 1542, 51: 1542, 52: 1542, 53: 6143, 54: 4022, 55: 3871, 56: 4866, 57: 4866, 58: 1329, 59: 4642, 60: 1541, 61: 1924, 62: 2094, 63: 10922, 64: 10922, 65: 10922, 66: 10922, 67: 2137, 68: 1651, 69: 6679, 70: 6679, 71: 6812, 72: 3837, 73: 6540, 74: 7955, 75: 27098, 76: 27098, 77: 17684, 78: 37, 79: 15845, 80: 3181, 81: 5062, 82: 4786, 83: 7235, 84: 7235, 85: 12619, 86: 9089, 87: 5470, 88: 5118, 89: 2134, 90: 2525, 91: 720, 92: 956, 93: 6346, 94: 6346, 95: 5505, 96: 5505, 97: 28729, 98: 28729, 99: 5413, 100: 10721, 101: 10721, 102: 4370, 103: 6042, 104: 23631, 105: 20262, 106: 47265, 107: 47265, 108: 13964, 109: 13677, 110: 17323, 111: 17323, 112: 17323, 113: 17323, 114: 17323, 115: 1555, 116: 3642, 117: 1215, 118: 5594, 119: 5594, 120: 5594, 121: 408, 122: 4799, 123: 14038, 124: 14038, 125: 14038, 126: 14038, 127: 14038, 128: 7660, 129: 22288, 130: 22288, 131: 1365, 132: 14982, 133: 9568, 134: 1636, 135: 57271, 136: 57271, 137: 57271, 138: 10141, 139: 3457, 140: 3457, 141: 3457, 142: 3457, 143: 8837, 144: 8837, 145: 8837, 146: 7038, 147: 7038, 148: 5972, 149: 25624, 150: 5476, 151: 5867, 152: 4148, 153: 19622, 154: 23973, 155: 7758, 156: 3146, 157: 10052, 158: 3564, 159: 13471, 160: 1930, 161: 15779, 162: 15779, 163: 15526, 164: 15526, 165: 3776, 166: 25001, 167: 25001, 168: 25001, 169: 25001, 170: 25001, 171: 5272, 172: 3490, 173: 3490, 174: 2812, 175: 4896, 176: 9737, 177: 1320, 178: 16643, 179: 16643, 180: 7153, 181: 4571, 182: 29651, 183: 5299, 184: 7396, 185: 7396, 186: 7062, 187: 19576, 188: 19576, 189: 19576, 190: 19576, 191: 19576, 192: 19576, 193: 978, 194: 4748, 195: 8393, 196: 11391, 197: 8634, 198: 9342, 199: 9342, 200: 10927, 201: 5235, 202: 8916, 203: 2507, 204: 3673, 205: 3673, 206: 3673, 207: 11881, 208: 6990, 209: 6990, 210: 6990, 211: 6990, 212: 6990, 213: 6132, 214: 3014, 215: 7550, 216: 3828, 217: 2752, 218: 1467, 219: 1884, 220: 25706, 221: 8491, 222: 1649, 223: 18613, 224: 18613, 225: 9867, 226: 1386, 227: 10199, 228: 2926, 229: 17739, 230: 17739, 231: 17739, 232: 3113, 233: 5542, 234: 5542, 235: 5542, 236: 26741, 237: 26741, 238: 26741, 239: 5347, 240: 7866, 241: 5680, 242: 5178, 243: 8093, 244: 3192, 245: 21834, 246: 21834, 247: 21834, 248: 21834, 249: 21834, 250: 21834, 251: 21834, 252: 21834, 253: 6169, 254: 4519, 255: 3163, 256: 3163, 257: 1831, 258: 18904, 259: 21930, 260: 10426, 261: 10426, 262: 10820, 263: 10820, 264: 548, 265: 16990, 266: 16990, 267: 16990, 268: 3503, 269: 13616, 270: 13616, 271: 8580, 272: 8580, 273: 8580, 274: 8580, 275: 8580, 276: 8580, 277: 8580, 278: 8580, 279: 8580, 280: 8580, 281: 4757, 282: 10009, 283: 10009, 284: 1985, 285: 1985, 286: 22536, 287: 22536, 288: 7150, 289: 3836, 290: 7802, 291: 7802, 292: 3619, 293: 23047, 294: 23047, 295: 9366, 296: 1265, 297: 3923, 298: 2272, 299: 973, 300: 220, 301: 7827, 302: 7827, 303: 9382, 304: 5069, 305: 5069, 306: 5069, 307: 5069, 308: 5069, 309: 5069, 310: 5069, 311: 5069, 312: 5069, 313: 1583, 314: 1907, 315: 23114, 316: 637, 317: 637, 318: 2314, 319: 4587, 320: 3477, 321: 3477, 322: 3477, 323: 3477, 324: 3477, 325: 25554, 326: 25554, 327: 25554, 328: 25554, 329: 25554, 330: 1680, 331: 9325, 332: 9325, 333: 9325, 334: 9325, 335: 4725, 336: 4725, 337: 4725, 338: 35799, 339: 2580, 340: 11813, 341: 11813, 342: 3536, 343: 6600, 344: 1789, 345: 12361, 346: 858, 347: 23148, 348: 23148, 349: 8081, 350: 8081, 351: 23358, 352: 23358, 353: 9372, 354: 4633, 355: 13061, 356: 13061, 357: 3523, 358: 2774, 359: 440, 360: 8922, 361: 8922, 362: 8922, 363: 2023, 364: 1859, 365: 50482, 366: 50482, 367: 50482, 368: 50482, 369: 3207, 370: 3207, 371: 3207, 372: 3207, 373: 3207, 374: 803, 375: 23308, 376: 23308, 377: 23308, 378: 23308, 379: 23308, 380: 23308, 381: 5836, 382: 79446, 383: 79446, 384: 7747, 385: 7747, 386: 7251, 387: 7251, 388: 10559, 389: 10559, 390: 5249, 391: 5249, 392: 33844, 393: 33844, 394: 11616, 395: 11616, 396: 11616, 397: 13609, 398: 8587, 399: 29442, 400: 11098, 401: 9947, 402: 13871, 403: 13871, 404: 13871, 405: 13871, 406: 6982, 407: 32122, 408: 32122, 409: 32122, 410: 16949, 411: 16949, 412: 9289, 413: 9289, 414: 9289, 415: 7368, 416: 7368, 417: 4028, 418: 4628, 419: 4628, 420: 5396, 421: 4247, 422: 4247, 423: 22641, 424: 22641, 425: 22641, 426: 22641, 427: 6222, 428: 4506, 429: 8747, 430: 1655, 431: 7861, 432: 6247, 433: 39459, 434: 10101, 435: 5898, 436: 2744, 437: 49288, 438: 49288, 439: 1201, 440: 1201, 441: 1201, 442: 1201, 443: 1201, 444: 807, 445: 3759, 446: 2663, 447: 3428, 448: 2876, 449: 3601, 450: 7058, 451: 9784, 452: 9784, 453: 10795, 454: 10191, 455: 14493, 456: 2186, 457: 1204, 458: 2091, 459: 19720, 460: 19720, 461: 2122, 462: 27536, 463: 4290, 464: 26490, 465: 26490, 466: 26490, 467: 5487, 468: 6377, 469: 1463, 470: 3759, 471: 3503, 472: 11550, 473: 3801, 474: 3796, 475: 9030, 476: 19546, 477: 19546, 478: 19546, 479: 19546, 480: 19546, 481: 19546, 482: 19546, 483: 7508, 484: 7508, 485: 7508, 486: 8842, 487: 8842, 488: 8842, 489: 8842, 490: 30183, 491: 30183, 492: 6169, 493: 7034, 494: 11034, 495: 11034, 496: 7932, 497: 1904, 498: 3319, 499: 3319, 500: 11128, 501: 11128, 502: 11128, 503: 11128, 504: 5977, 505: 26234, 506: 26234, 507: 26234, 508: 26234, 509: 26234, 510: 4360, 511: 2282, 512: 438, 513: 11676, 514: 2586, 515: 29673, 516: 29673, 517: 29673, 518: 29673, 519: 29673, 520: 6740, 521: 5956, 522: 6108, 523: 4585, 524: 3829, 525: 8958, 526: 5492, 527: 9292, 528: 1873, 529: 8170, 530: 3341, 531: 7497, 532: 7497, 533: 13779, 534: 87841, 535: 9967, 536: 6669, 537: 17044, 538: 10760, 539: 1302, 540: 21625, 541: 21625, 542: 21625, 543: 21625, 544: 21625, 545: 9413, 546: 14331, 547: 14331, 548: 14331, 549: 14331}, 'Price': {0: 8, 1: 22, 2: 15, 3: 6, 4: 12, 5: 11, 6: 30, 7: 15, 8: 3, 9: 8, 10: 8, 11: 2, 12: 32, 13: 5, 14: 17, 15: 4, 16: 6, 17: 6, 18: 8, 19: 13, 20: 14, 21: 14, 22: 13, 23: 9, 24: 13, 25: 5, 26: 9, 27: 14, 28: 5, 29: 11, 30: 24, 31: 21, 32: 11, 33: 11, 34: 15, 35: 13, 36: 13, 37: 18, 38: 13, 39: 8, 40: 5, 41: 5, 42: 0, 43: 4, 44: 18, 45: 28, 46: 11, 47: 11, 48: 11, 49: 16, 50: 14, 51: 14, 52: 14, 53: 8, 54: 4, 55: 5, 56: 11, 57: 11, 58: 10, 59: 13, 60: 4, 61: 8, 62: 4, 63: 5, 64: 5, 65: 5, 66: 5, 67: 17, 68: 15, 69: 105, 70: 105, 71: 0, 72: 15, 73: 22, 74: 5, 75: 15, 76: 15, 77: 6, 78: 6, 79: 13, 80: 12, 81: 6, 82: 8, 83: 4, 84: 4, 85: 8, 86: 8, 87: 6, 88: 20, 89: 5, 90: 16, 91: 1, 92: 14, 93: 9, 94: 9, 95: 7, 96: 18, 97: 15, 98: 15, 99: 9, 100: 8, 101: 8, 102: 15, 103: 2, 104: 7, 105: 11, 106: 14, 107: 14, 108: 32, 109: 6, 110: 4, 111: 4, 112: 4, 113: 4, 114: 4, 115: 9, 116: 0, 117: 9, 118: 5, 119: 5, 120: 5, 121: 20, 122: 16, 123: 4, 124: 4, 125: 4, 126: 4, 127: 4, 128: 12, 129: 12, 130: 12, 131: 11, 132: 19, 133: 9, 134: 6, 135: 10, 136: 10, 137: 9, 138: 6, 139: 14, 140: 14, 141: 14, 142: 14, 143: 5, 144: 5, 145: 5, 146: 7, 147: 7, 148: 10, 149: 14, 150: 7, 151: 54, 152: 11, 153: 30, 154: 12, 155: 18, 156: 30, 157: 22, 158: 9, 159: 52, 160: 4, 161: 10, 162: 10, 163: 14, 164: 14, 165: 22, 166: 11, 167: 11, 168: 11, 169: 11, 170: 11, 171: 16, 172: 15, 173: 15, 174: 17, 175: 17, 176: 7, 177: 7, 178: 4, 179: 4, 180: 9, 181: 21, 182: 14, 183: 20, 184: 13, 185: 13, 186: 12, 187: 8, 188: 8, 189: 8, 190: 8, 191: 8, 192: 8, 193: 0, 194: 12, 195: 17, 196: 12, 197: 25, 198: 10, 199: 10, 200: 6, 201: 5, 202: 6, 203: 8, 204: 4, 205: 4, 206: 4, 207: 13, 208: 4, 209: 4, 210: 4, 211: 4, 212: 4, 213: 13, 214: 21, 215: 6, 216: 15, 217: 18, 218: 10, 219: 0, 220: 12, 221: 7, 222: 13, 223: 5, 224: 5, 225: 16, 226: 20, 227: 11, 228: 27, 229: 8, 230: 8, 231: 8, 232: 6, 233: 10, 234: 10, 235: 10, 236: 8, 237: 8, 238: 8, 239: 16, 240: 11, 241: 10, 242: 9, 243: 14, 244: 22, 245: 8, 246: 8, 247: 8, 248: 8, 249: 8, 250: 8, 251: 8, 252: 8, 253: 7, 254: 12, 255: 13, 256: 13, 257: 9, 258: 13, 259: 11, 260: 20, 261: 20, 262: 5, 263: 5, 264: 2, 265: 27, 266: 27, 267: 27, 268: 9, 269: 10, 270: 10, 271: 46, 272: 46, 273: 46, 274: 46, 275: 46, 276: 46, 277: 46, 278: 46, 279: 46, 280: 46, 281: 4, 282: 20, 283: 7, 284: 9, 285: 9, 286: 12, 287: 12, 288: 12, 289: 12, 290: 20, 291: 20, 292: 10, 293: 6, 294: 6, 295: 9, 296: 11, 297: 16, 298: 6, 299: 25, 300: 17, 301: 20, 302: 20, 303: 6, 304: 17, 305: 17, 306: 17, 307: 17, 308: 17, 309: 17, 310: 17, 311: 17, 312: 17, 313: 18, 314: 13, 315: 18, 316: 20, 317: 20, 318: 22, 319: 21, 320: 28, 321: 28, 322: 28, 323: 28, 324: 28, 325: 8, 326: 8, 327: 8, 328: 8, 329: 8, 330: 12, 331: 24, 332: 24, 333: 24, 334: 24, 335: 16, 336: 16, 337: 16, 338: 39, 339: 9, 340: 10, 341: 10, 342: 17, 343: 11, 344: 14, 345: 12, 346: 53, 347: 6, 348: 6, 349: 8, 350: 8, 351: 12, 352: 12, 353: 12, 354: 21, 355: 6, 356: 6, 357: 13, 358: 0, 359: 11, 360: 9, 361: 9, 362: 9, 363: 15, 364: 11, 365: 13, 366: 13, 367: 7, 368: 13, 369: 6, 370: 6, 371: 6, 372: 6, 373: 6, 374: 9, 375: 6, 376: 6, 377: 6, 378: 6, 379: 6, 380: 6, 381: 0, 382: 18, 383: 7, 384: 14, 385: 14, 386: 9, 387: 16, 388: 2, 389: 2, 390: 5, 391: 5, 392: 20, 393: 20, 394: 7, 395: 7, 396: 7, 397: 14, 398: 10, 399: 7, 400: 13, 401: 11, 402: 6, 403: 6, 404: 8, 405: 7, 406: 14, 407: 14, 408: 8, 409: 8, 410: 30, 411: 30, 412: 13, 413: 9, 414: 9, 415: 7, 416: 7, 417: 9, 418: 7, 419: 7, 420: 20, 421: 13, 422: 13, 423: 11, 424: 11, 425: 11, 426: 11, 427: 18, 428: 14, 429: 19, 430: 13, 431: 5, 432: 10, 433: 9, 434: 8, 435: 8, 436: 12, 437: 11, 438: 11, 439: 40, 440: 40, 441: 40, 442: 40, 443: 40, 444: 36, 445: 16, 446: 17, 447: 14, 448: 21, 449: 18, 450: 17, 451: 5, 452: 5, 453: 21, 454: 18, 455: 18, 456: 12, 457: 14, 458: 12, 459: 8, 460: 8, 461: 0, 462: 14, 463: 10, 464: 15, 465: 15, 466: 15, 467: 9, 468: 7, 469: 10, 470: 6, 471: 9, 472: 10, 473: 82, 474: 12, 475: 10, 476: 5, 477: 5, 478: 5, 479: 5, 480: 5, 481: 5, 482: 5, 483: 16, 484: 16, 485: 16, 486: 10, 487: 10, 488: 10, 489: 10, 490: 4, 491: 4, 492: 16, 493: 15, 494: 19, 495: 19, 496: 9, 497: 23, 498: 11, 499: 11, 500: 23, 501: 23, 502: 23, 503: 23, 504: 12, 505: 0, 506: 0, 507: 0, 508: 0, 509: 7, 510: 21, 511: 21, 512: 15, 513: 9, 514: 5, 515: 16, 516: 16, 517: 16, 518: 13, 519: 16, 520: 20, 521: 11, 522: 4, 523: 9, 524: 42, 525: 12, 526: 18, 527: 17, 528: 14, 529: 13, 530: 9, 531: 6, 532: 6, 533: 14, 534: 15, 535: 13, 536: 12, 537: 18, 538: 15, 539: 11, 540: 9, 541: 9, 542: 9, 543: 9, 544: 9, 545: 8, 546: 8, 547: 8, 548: 8, 549: 8}, 'Year': {0: 2016, 1: 2011, 2: 2018, 3: 2017, 4: 2019, 5: 2011, 6: 2014, 7: 2017, 8: 2018, 9: 2016, 10: 2017, 11: 2010, 12: 2011, 13: 2018, 14: 2009, 15: 2016, 16: 2015, 17: 2015, 18: 2015, 19: 2016, 20: 2014, 21: 2015, 22: 2013, 23: 2015, 24: 2013, 25: 2009, 26: 2017, 27: 2010, 28: 2015, 29: 2015, 30: 2012, 31: 2010, 32: 2018, 33: 2019, 34: 2015, 35: 2015, 36: 2016, 37: 2016, 38: 2009, 39: 2010, 40: 2017, 41: 2019, 42: 2011, 43: 2016, 44: 2019, 45: 2014, 46: 2010, 47: 2011, 48: 2012, 49: 2016, 50: 2009, 51: 2010, 52: 2011, 53: 2018, 54: 2015, 55: 2015, 56: 2010, 57: 2011, 58: 2013, 59: 2013, 60: 2009, 61: 2010, 62: 2011, 63: 2015, 64: 2016, 65: 2017, 66: 2018, 67: 2010, 68: 2010, 69: 2013, 70: 2014, 71: 2013, 72: 2009, 73: 2014, 74: 2019, 75: 2013, 76: 2014, 77: 2014, 78: 2009, 79: 2013, 80: 2009, 81: 2018, 82: 2017, 83: 2018, 84: 2019, 85: 2019, 86: 2019, 87: 2018, 88: 2016, 89: 2015, 90: 2010, 91: 2009, 92: 2009, 93: 2011, 94: 2012, 95: 2009, 96: 2009, 97: 2018, 98: 2019, 99: 2015, 100: 2016, 101: 2018, 102: 2016, 103: 2018, 104: 2012, 105: 2012, 106: 2012, 107: 2013, 108: 2012, 109: 2018, 110: 2014, 111: 2015, 112: 2016, 113: 2017, 114: 2018, 115: 2010, 116: 2014, 117: 2010, 118: 2011, 119: 2012, 120: 2013, 121: 2010, 122: 2013, 123: 2015, 124: 2016, 125: 2017, 126: 2018, 127: 2019, 128: 2019, 129: 2018, 130: 2019, 131: 2009, 132: 2015, 133: 2011, 134: 2009, 135: 2012, 136: 2013, 137: 2014, 138: 2019, 139: 2009, 140: 2010, 141: 2011, 142: 2012, 143: 2017, 144: 2018, 145: 2019, 146: 2012, 147: 2013, 148: 2014, 149: 2015, 150: 2019, 151: 2016, 152: 2013, 153: 2016, 154: 2016, 155: 2019, 156: 2017, 157: 2016, 158: 2015, 159: 2016, 160: 2009, 161: 2011, 162: 2012, 163: 2016, 164: 2017, 165: 2018, 166: 2014, 167: 2015, 168: 2016, 169: 2017, 170: 2018, 171: 2019, 172: 2013, 173: 2014, 174: 2015, 175: 2013, 176: 2019, 177: 2009, 178: 2017, 179: 2019, 180: 2014, 181: 2011, 182: 2013, 183: 2011, 184: 2019, 185: 2018, 186: 2019, 187: 2011, 188: 2012, 189: 2013, 190: 2014, 191: 2015, 192: 2016, 193: 2014, 194: 2013, 195: 2017, 196: 2013, 197: 2012, 198: 2011, 199: 2012, 200: 2014, 201: 2015, 202: 2016, 203: 2018, 204: 2013, 205: 2014, 206: 2015, 207: 2018, 208: 2013, 209: 2014, 210: 2015, 211: 2016, 212: 2017, 213: 2013, 214: 2017, 215: 2018, 216: 2009, 217: 2010, 218: 2010, 219: 2014, 220: 2018, 221: 2014, 222: 2011, 223: 2014, 224: 2015, 225: 2018, 226: 2014, 227: 2017, 228: 2009, 229: 2016, 230: 2017, 231: 2018, 232: 2017, 233: 2014, 234: 2015, 235: 2016, 236: 2010, 237: 2011, 238: 2012, 239: 2019, 240: 2019, 241: 2009, 242: 2016, 243: 2012, 244: 2017, 245: 2012, 246: 2013, 247: 2014, 248: 2015, 249: 2016, 250: 2017, 251: 2018, 252: 2019, 253: 2015, 254: 2009, 255: 2011, 256: 2012, 257: 2017, 258: 2017, 259: 2014, 260: 2009, 261: 2010, 262: 2018, 263: 2019, 264: 2010, 265: 2017, 266: 2018, 267: 2019, 268: 2016, 269: 2012, 270: 2013, 271: 2009, 272: 2010, 273: 2011, 274: 2012, 275: 2013, 276: 2014, 277: 2015, 278: 2016, 279: 2017, 280: 2018, 281: 2017, 282: 2012, 283: 2013, 284: 2010, 285: 2011, 286: 2017, 287: 2018, 288: 2013, 289: 2014, 290: 2018, 291: 2019, 292: 2010, 293: 2018, 294: 2019, 295: 2015, 296: 2010, 297: 2018, 298: 2013, 299: 2009, 300: 2013, 301: 2011, 302: 2012, 303: 2019, 304: 2009, 305: 2010, 306: 2011, 307: 2012, 308: 2013, 309: 2014, 310: 2015, 311: 2016, 312: 2017, 313: 2009, 314: 2010, 315: 2013, 316: 2010, 317: 2011, 318: 2011, 319: 2011, 320: 2010, 321: 2011, 322: 2012, 323: 2013, 324: 2014, 325: 2015, 326: 2016, 327: 2017, 328: 2018, 329: 2019, 330: 2009, 331: 2009, 332: 2011, 333: 2012, 334: 2013, 335: 2015, 336: 2016, 337: 2017, 338: 2014, 339: 2012, 340: 2010, 341: 2011, 342: 2010, 343: 2014, 344: 2012, 345: 2019, 346: 2009, 347: 2013, 348: 2014, 349: 2014, 350: 2015, 351: 2014, 352: 2015, 353: 2012, 354: 2011, 355: 2018, 356: 2019, 357: 2010, 358: 2016, 359: 2010, 360: 2013, 361: 2014, 362: 2015, 363: 2011, 364: 2009, 365: 2012, 366: 2013, 367: 2014, 368: 2014, 369: 2009, 370: 2010, 371: 2011, 372: 2012, 373: 2013, 374: 2009, 375: 2013, 376: 2015, 377: 2016, 378: 2017, 379: 2018, 380: 2019, 381: 2017, 382: 2015, 383: 2016, 384: 2010, 385: 2011, 386: 2010, 387: 2009, 388: 2009, 389: 2010, 390: 2016, 391: 2017, 392: 2013, 393: 2014, 394: 2012, 395: 2013, 396: 2014, 397: 2019, 398: 2009, 399: 2017, 400: 2012, 401: 2018, 402: 2009, 403: 2010, 404: 2011, 405: 2011, 406: 2013, 407: 2010, 408: 2011, 409: 2012, 410: 2011, 411: 2012, 412: 2010, 413: 2011, 414: 2012, 415: 2017, 416: 2018, 417: 2009, 418: 2009, 419: 2010, 420: 2013, 421: 2011, 422: 2012, 423: 2015, 424: 2016, 425: 2017, 426: 2019, 427: 2011, 428: 2010, 429: 2009, 430: 2009, 431: 2016, 432: 2012, 433: 2015, 434: 2014, 435: 2018, 436: 2019, 437: 2015, 438: 2016, 439: 2010, 440: 2011, 441: 2012, 442: 2013, 443: 2014, 444: 2016, 445: 2011, 446: 2013, 447: 2015, 448: 2012, 449: 2018, 450: 2018, 451: 2017, 452: 2018, 453: 2012, 454: 2018, 455: 2012, 456: 2010, 457: 2010, 458: 2012, 459: 2009, 460: 2017, 461: 2010, 462: 2019, 463: 2011, 464: 2017, 465: 2018, 466: 2019, 467: 2017, 468: 2012, 469: 2011, 470: 2009, 471: 2009, 472: 2019, 473: 2009, 474: 2010, 475: 2019, 476: 2013, 477: 2014, 478: 2015, 479: 2016, 480: 2017, 481: 2018, 482: 2019, 483: 2015, 484: 2016, 485: 2017, 486: 2016, 487: 2017, 488: 2018, 489: 2019, 490: 2018, 491: 2019, 492: 2015, 493: 2013, 494: 2011, 495: 2012, 496: 2017, 497: 2012, 498: 2009, 499: 2010, 500: 2014, 501: 2015, 502: 2016, 503: 2017, 504: 2011, 505: 2013, 506: 2014, 507: 2015, 508: 2016, 509: 2019, 510: 2017, 511: 2010, 512: 2009, 513: 2009, 514: 2014, 515: 2010, 516: 2011, 517: 2012, 518: 2014, 519: 2014, 520: 2009, 521: 2019, 522: 2019, 523: 2016, 524: 2009, 525: 2011, 526: 2017, 527: 2014, 528: 2015, 529: 2019, 530: 2011, 531: 2012, 532: 2013, 533: 2016, 534: 2019, 535: 2009, 536: 2018, 537: 2012, 538: 2012, 539: 2010, 540: 2013, 541: 2014, 542: 2015, 543: 2016, 544: 2017, 545: 2019, 546: 2016, 547: 2017, 548: 2018, 549: 2019}, 'Genre': {0: 'Non Fiction', 1: 'Fiction', 2: 'Non Fiction', 3: 'Fiction', 4: 'Non Fiction', 5: 'Fiction', 6: 'Fiction', 7: 'Fiction', 8: 'Non Fiction', 9: 'Fiction', 10: 'Fiction', 11: 'Non Fiction', 12: 'Non Fiction', 13: 'Fiction', 14: 'Non Fiction', 15: 'Non Fiction', 16: 'Non Fiction', 17: 'Non Fiction', 18: 'Non Fiction', 19: 'Non Fiction', 20: 'Fiction', 21: 'Fiction', 22: 'Fiction', 23: 'Non Fiction', 24: 'Fiction', 25: 'Non Fiction', 26: 'Non Fiction', 27: 'Non Fiction', 28: 'Non Fiction', 29: 'Non Fiction', 30: 'Non Fiction', 31: 'Non Fiction', 32: 'Non Fiction', 33: 'Non Fiction', 34: 'Non Fiction', 35: 'Non Fiction', 36: 'Non Fiction', 37: 'Non Fiction', 38: 'Fiction', 39: 'Non Fiction', 40: 'Fiction', 41: 'Fiction', 42: 'Fiction', 43: 'Non Fiction', 44: 'Non Fiction', 45: 'Non Fiction', 46: 'Fiction', 47: 'Fiction', 48: 'Fiction', 49: 'Non Fiction', 50: 'Non Fiction', 51: 'Non Fiction', 52: 'Non Fiction', 53: 'Fiction', 54: 'Non Fiction', 55: 'Non Fiction', 56: 'Fiction', 57: 'Fiction', 58: 'Non Fiction', 59: 'Non Fiction', 60: 'Fiction', 61: 'Fiction', 62: 'Fiction', 63: 'Fiction', 64: 'Fiction', 65: 'Fiction', 66: 'Fiction', 67: 'Non Fiction', 68: 'Non Fiction', 69: 'Non Fiction', 70: 'Non Fiction', 71: 'Fiction', 72: 'Fiction', 73: 'Fiction', 74: 'Non Fiction', 75: 'Fiction', 76: 'Fiction', 77: 'Fiction', 78: 'Non Fiction', 79: 'Fiction', 80: 'Fiction', 81: 'Fiction', 82: 'Fiction', 83: 'Fiction', 84: 'Fiction', 85: 'Fiction', 86: 'Fiction', 87: 'Fiction', 88: 'Fiction', 89: 'Non Fiction', 90: 'Non Fiction', 91: 'Non Fiction', 92: 'Non Fiction', 93: 'Non Fiction', 94: 'Non Fiction', 95: 'Fiction', 96: 'Fiction', 97: 'Non Fiction', 98: 'Non Fiction', 99: 'Non Fiction', 100: 'Fiction', 101: 'Fiction', 102: 'Fiction', 103: 'Non Fiction', 104: 'Fiction', 105: 'Fiction', 106: 'Fiction', 107: 'Fiction', 108: 'Fiction', 109: 'Non Fiction', 110: 'Non Fiction', 111: 'Non Fiction', 112: 'Non Fiction', 113: 'Non Fiction', 114: 'Non Fiction', 115: 'Non Fiction', 116: 'Fiction', 117: 'Non Fiction', 118: 'Fiction', 119: 'Fiction', 120: 'Fiction', 121: 'Non Fiction', 122: 'Non Fiction', 123: 'Fiction', 124: 'Fiction', 125: 'Fiction', 126: 'Fiction', 127: 'Fiction', 128: 'Non Fiction', 129: 'Non Fiction', 130: 'Non Fiction', 131: 'Non Fiction', 132: 'Fiction', 133: 'Fiction', 134: 'Non Fiction', 135: 'Fiction', 136: 'Fiction', 137: 'Fiction', 138: 'Non Fiction', 139: 'Non Fiction', 140: 'Non Fiction', 141: 'Non Fiction', 142: 'Non Fiction', 143: 'Fiction', 144: 'Fiction', 145: 'Fiction', 146: 'Fiction', 147: 'Fiction', 148: 'Non Fiction', 149: 'Fiction', 150: 'Non Fiction', 151: 'Non Fiction', 152: 'Non Fiction', 153: 'Fiction', 154: 'Fiction', 155: 'Fiction', 156: 'Fiction', 157: 'Fiction', 158: 'Non Fiction', 159: 'Fiction', 160: 'Non Fiction', 161: 'Non Fiction', 162: 'Non Fiction', 163: 'Non Fiction', 164: 'Non Fiction', 165: 'Non Fiction', 166: 'Non Fiction', 167: 'Non Fiction', 168: 'Non Fiction', 169: 'Non Fiction', 170: 'Non Fiction', 171: 'Non Fiction', 172: 'Non Fiction', 173: 'Non Fiction', 174: 'Non Fiction', 175: 'Non Fiction', 176: 'Non Fiction', 177: 'Fiction', 178: 'Fiction', 179: 'Fiction', 180: 'Fiction', 181: 'Non Fiction', 182: 'Fiction', 183: 'Fiction', 184: 'Non Fiction', 185: 'Non Fiction', 186: 'Non Fiction', 187: 'Non Fiction', 188: 'Non Fiction', 189: 'Non Fiction', 190: 'Non Fiction', 191: 'Non Fiction', 192: 'Non Fiction', 193: 'Fiction', 194: 'Fiction', 195: 'Non Fiction', 196: 'Non Fiction', 197: 'Non Fiction', 198: 'Non Fiction', 199: 'Non Fiction', 200: 'Non Fiction', 201: 'Non Fiction', 202: 'Non Fiction', 203: 'Non Fiction', 204: 'Non Fiction', 205: 'Non Fiction', 206: 'Non Fiction', 207: 'Fiction', 208: 'Non Fiction', 209: 'Non Fiction', 210: 'Non Fiction', 211: 'Non Fiction', 212: 'Non Fiction', 213: 'Non Fiction', 214: 'Non Fiction', 215: 'Non Fiction', 216: 'Non Fiction', 217: 'Non Fiction', 218: 'Fiction', 219: 'Fiction', 220: 'Fiction', 221: 'Fiction', 222: 'Non Fiction', 223: 'Fiction', 224: 'Fiction', 225: 'Non Fiction', 226: 'Non Fiction', 227: 'Non Fiction', 228: 'Non Fiction', 229: 'Non Fiction', 230: 'Non Fiction', 231: 'Non Fiction', 232: 'Non Fiction', 233: 'Non Fiction', 234: 'Non Fiction', 235: 'Non Fiction', 236: 'Fiction', 237: 'Fiction', 238: 'Fiction', 239: 'Non Fiction', 240: 'Non Fiction', 241: 'Fiction', 242: 'Non Fiction', 243: 'Non Fiction', 244: 'Non Fiction', 245: 'Fiction', 246: 'Fiction', 247: 'Fiction', 248: 'Fiction', 249: 'Fiction', 250: 'Fiction', 251: 'Fiction', 252: 'Fiction', 253: 'Fiction', 254: 'Fiction', 255: 'Non Fiction', 256: 'Non Fiction', 257: 'Non Fiction', 258: 'Fiction', 259: 'Fiction', 260: 'Non Fiction', 261: 'Non Fiction', 262: 'Non Fiction', 263: 'Non Fiction', 264: 'Fiction', 265: 'Fiction', 266: 'Fiction', 267: 'Fiction', 268: 'Fiction', 269: 'Non Fiction', 270: 'Non Fiction', 271: 'Non Fiction', 272: 'Non Fiction', 273: 'Non Fiction', 274: 'Non Fiction', 275: 'Non Fiction', 276: 'Non Fiction', 277: 'Non Fiction', 278: 'Non Fiction', 279: 'Non Fiction', 280: 'Non Fiction', 281: 'Fiction', 282: 'Non Fiction', 283: 'Non Fiction', 284: 'Non Fiction', 285: 'Non Fiction', 286: 'Fiction', 287: 'Fiction', 288: 'Fiction', 289: 'Fiction', 290: 'Non Fiction', 291: 'Non Fiction', 292: 'Fiction', 293: 'Non Fiction', 294: 'Non Fiction', 295: 'Non Fiction', 296: 'Non Fiction', 297: 'Non Fiction', 298: 'Non Fiction', 299: 'Fiction', 300: 'Non Fiction', 301: 'Non Fiction', 302: 'Non Fiction', 303: 'Fiction', 304: 'Non Fiction', 305: 'Non Fiction', 306: 'Non Fiction', 307: 'Non Fiction', 308: 'Non Fiction', 309: 'Non Fiction', 310: 'Non Fiction', 311: 'Non Fiction', 312: 'Non Fiction', 313: 'Non Fiction', 314: 'Non Fiction', 315: 'Fiction', 316: 'Non Fiction', 317: 'Non Fiction', 318: 'Non Fiction', 319: 'Non Fiction', 320: 'Non Fiction', 321: 'Non Fiction', 322: 'Non Fiction', 323: 'Non Fiction', 324: 'Non Fiction', 325: 'Non Fiction', 326: 'Non Fiction', 327: 'Non Fiction', 328: 'Non Fiction', 329: 'Non Fiction', 330: 'Non Fiction', 331: 'Non Fiction', 332: 'Non Fiction', 333: 'Non Fiction', 334: 'Non Fiction', 335: 'Non Fiction', 336: 'Non Fiction', 337: 'Non Fiction', 338: 'Fiction', 339: 'Non Fiction', 340: 'Fiction', 341: 'Fiction', 342: 'Non Fiction', 343: 'Fiction', 344: 'Non Fiction', 345: 'Non Fiction', 346: 'Non Fiction', 347: 'Fiction', 348: 'Fiction', 349: 'Fiction', 350: 'Fiction', 351: 'Non Fiction', 352: 'Non Fiction', 353: 'Fiction', 354: 'Non Fiction', 355: 'Non Fiction', 356: 'Non Fiction', 357: 'Fiction', 358: 'Non Fiction', 359: 'Non Fiction', 360: 'Fiction', 361: 'Fiction', 362: 'Fiction', 363: 'Non Fiction', 364: 'Fiction', 365: 'Fiction', 366: 'Fiction', 367: 'Fiction', 368: 'Fiction', 369: 'Non Fiction', 370: 'Non Fiction', 371: 'Non Fiction', 372: 'Non Fiction', 373: 'Non Fiction', 374: 'Non Fiction', 375: 'Non Fiction', 376: 'Non Fiction', 377: 'Non Fiction', 378: 'Non Fiction', 379: 'Non Fiction', 380: 'Non Fiction', 381: 'Fiction', 382: 'Fiction', 383: 'Fiction', 384: 'Fiction', 385: 'Fiction', 386: 'Fiction', 387: 'Fiction', 388: 'Fiction', 389: 'Fiction', 390: 'Fiction', 391: 'Fiction', 392: 'Fiction', 393: 'Fiction', 394: 'Fiction', 395: 'Fiction', 396: 'Fiction', 397: 'Fiction', 398: 'Fiction', 399: 'Fiction', 400: 'Fiction', 401: 'Fiction', 402: 'Fiction', 403: 'Fiction', 404: 'Fiction', 405: 'Fiction', 406: 'Fiction', 407: 'Fiction', 408: 'Fiction', 409: 'Fiction', 410: 'Fiction', 411: 'Fiction', 412: 'Non Fiction', 413: 'Non Fiction', 414: 'Non Fiction', 415: 'Non Fiction', 416: 'Non Fiction', 417: 'Non Fiction', 418: 'Fiction', 419: 'Fiction', 420: 'Fiction', 421: 'Non Fiction', 422: 'Non Fiction', 423: 'Non Fiction', 424: 'Non Fiction', 425: 'Non Fiction', 426: 'Non Fiction', 427: 'Fiction', 428: 'Fiction', 429: 'Fiction', 430: 'Non Fiction', 431: 'Non Fiction', 432: 'Fiction', 433: 'Fiction', 434: 'Fiction', 435: 'Fiction', 436: 'Non Fiction', 437: 'Fiction', 438: 'Fiction', 439: 'Non Fiction', 440: 'Non Fiction', 441: 'Non Fiction', 442: 'Non Fiction', 443: 'Non Fiction', 444: 'Non Fiction', 445: 'Fiction', 446: 'Non Fiction', 447: 'Non Fiction', 448: 'Non Fiction', 449: 'Non Fiction', 450: 'Non Fiction', 451: 'Fiction', 452: 'Fiction', 453: 'Non Fiction', 454: 'Fiction', 455: 'Fiction', 456: 'Fiction', 457: 'Non Fiction', 458: 'Fiction', 459: 'Fiction', 460: 'Fiction', 461: 'Fiction', 462: 'Fiction', 463: 'Fiction', 464: 'Non Fiction', 465: 'Non Fiction', 466: 'Non Fiction', 467: 'Non Fiction', 468: 'Fiction', 469: 'Fiction', 470: 'Fiction', 471: 'Non Fiction', 472: 'Non Fiction', 473: 'Fiction', 474: 'Fiction', 475: 'Non Fiction', 476: 'Fiction', 477: 'Fiction', 478: 'Fiction', 479: 'Fiction', 480: 'Fiction', 481: 'Fiction', 482: 'Fiction', 483: 'Non Fiction', 484: 'Non Fiction', 485: 'Non Fiction', 486: 'Fiction', 487: 'Fiction', 488: 'Fiction', 489: 'Fiction', 490: 'Fiction', 491: 'Fiction', 492: 'Non Fiction', 493: 'Non Fiction', 494: 'Non Fiction', 495: 'Non Fiction', 496: 'Fiction', 497: 'Non Fiction', 498: 'Non Fiction', 499: 'Non Fiction', 500: 'Non Fiction', 501: 'Non Fiction', 502: 'Non Fiction', 503: 'Non Fiction', 504: 'Non Fiction', 505: 'Fiction', 506: 'Fiction', 507: 'Fiction', 508: 'Fiction', 509: 'Fiction', 510: 'Non Fiction', 511: 'Fiction', 512: 'Non Fiction', 513: 'Fiction', 514: 'Fiction', 515: 'Non Fiction', 516: 'Non Fiction', 517: 'Non Fiction', 518: 'Non Fiction', 519: 'Non Fiction', 520: 'Fiction', 521: 'Non Fiction', 522: 'Non Fiction', 523: 'Non Fiction', 524: 'Fiction', 525: 'Fiction', 526: 'Non Fiction', 527: 'Non Fiction', 528: 'Fiction', 529: 'Fiction', 530: 'Non Fiction', 531: 'Non Fiction', 532: 'Non Fiction', 533: 'Non Fiction', 534: 'Fiction', 535: 'Fiction', 536: 'Non Fiction', 537: 'Non Fiction', 538: 'Fiction', 539: 'Non Fiction', 540: 'Fiction', 541: 'Fiction', 542: 'Fiction', 543: 'Fiction', 544: 'Fiction', 545: 'Fiction', 546: 'Non Fiction', 547: 'Non Fiction', 548: 'Non Fiction', 549: 'Non Fiction'}}\n"
     ]
    }
   ],
   "source": [
    "# Print the dictionary\n",
    "print(data_dict)"
   ]
  },
  {
   "cell_type": "code",
   "execution_count": 25,
   "id": "0c356ead",
   "metadata": {},
   "outputs": [],
   "source": [
    "# Filter the DataFrame to include only Fiction and Non Fiction rows\n",
    "filtered_df = df[df[\"Genre\"].isin([\"Fiction\", \"Non Fiction\"])]"
   ]
  },
  {
   "cell_type": "code",
   "execution_count": 26,
   "id": "bb41d206",
   "metadata": {},
   "outputs": [],
   "source": [
    "# Group the data by Year and Genre and calculate the sum of User Rating for each group\n",
    "grouped_df = filtered_df.groupby([\"Year\", \"Genre\"]).sum()[\"User Rating\"].unstack()"
   ]
  },
  {
   "cell_type": "code",
   "execution_count": 27,
   "id": "c775516e",
   "metadata": {},
   "outputs": [
    {
     "data": {
      "text/plain": [
       "<AxesSubplot:xlabel='Year'>"
      ]
     },
     "execution_count": 27,
     "metadata": {},
     "output_type": "execute_result"
    },
    {
     "data": {
      "image/png": "[encoded data removed]",
      "text/plain": [
       "<Figure size 640x480 with 1 Axes>"
      ]
     },
     "metadata": {},
     "output_type": "display_data"
    }
   ],
   "source": [
    "#Plot the data\n",
    "grouped_df.plot(kind=\"line\")"
   ]
  },
  {
   "cell_type": "code",
   "execution_count": 28,
   "id": "cecb4f1c",
   "metadata": {},
   "outputs": [
    {
     "data": {
      "text/plain": [
       "Text(0.5, 1.0, 'Trends in the most popular genres')"
      ]
     },
     "execution_count": 28,
     "metadata": {},
     "output_type": "execute_result"
    },
    {
     "data": {
      "image/png": "[encoded data removed]",
      "text/plain": [
       "<Figure size 640x480 with 1 Axes>"
      ]
     },
     "metadata": {},
     "output_type": "display_data"
    }
   ],
   "source": [
    "# Add labels and title\n",
    "plt.xlabel(\"Year\")\n",
    "plt.ylabel(\"Total User Rating\")\n",
    "plt.title(\"Trends in the most popular genres\")"
   ]
  },
  {
   "cell_type": "code",
   "execution_count": null,
   "id": "aa16eb11",
   "metadata": {},
   "outputs": [],
   "source": []
  }
 ],
 "metadata": {
  "colab": {
   "provenance": []
  },
  "kernelspec": {
   "display_name": "Python 3 (ipykernel)",
   "language": "python",
   "name": "python3"
  },
  "language_info": {
   "codemirror_mode": {
    "name": "ipython",
    "version": 3
   },
   "file_extension": ".py",
   "mimetype": "text/x-python",
   "name": "python",
   "nbconvert_exporter": "python",
   "pygments_lexer": "ipython3",
   "version": "3.9.13"
  }
 },
 "nbformat": 4,
 "nbformat_minor": 5
}
